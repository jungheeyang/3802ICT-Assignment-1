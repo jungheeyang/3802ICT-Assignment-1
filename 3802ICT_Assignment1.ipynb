{
 "cells": [
  {
   "cell_type": "markdown",
   "metadata": {},
   "source": [
    "# 3802ICT Assignment 1"
   ]
  },
  {
   "cell_type": "markdown",
   "metadata": {},
   "source": [
    "<p style=\"text-align:right\">Junghee Yang (Kat) <br>\n",
    "Regnier Avice<br>\n",
    "Yunpeng Huang (Steven)</p>"
   ]
  },
  {
   "cell_type": "markdown",
   "metadata": {},
   "source": [
    "## Project title:"
   ]
  },
  {
   "cell_type": "markdown",
   "metadata": {},
   "source": [
    "## 1. A brief description of the problem/question\n",
    "<p>Amsterdam is the capital city of Netherland with a population of 870,000 with 17 million tourists every year. Many tourists these days are staying at Airbnb hosted by homeowners. This dataset is from insiderairbnb.com which contains descriptions of Airbnb listings on 6th of December 2018 in Amsterdam. The dataset includes the name of the listing, number of reviews, locations, etc. </p>\n",
    "\n",
    "<p>This projects are consist of these problems/questions:</p>\n",
    " \n",
    "\n",
    "<ul>\n",
    "    <li><b>Classification and label prediction - Can prices be predicted by the size of property and reviews?<b>\n",
    "    <li><b>Association and Correlation - </b>\n",
    "    <li><b>Characterization - <b>\n",
    "</ul>\n",
    "\n"
   ]
  },
  {
   "cell_type": "markdown",
   "metadata": {},
   "source": [
    "## 2. Dataset description\n",
    "<p>The dataset contains Airbnb listings in Amsterdam on 6th December 2018 and it was retrieved from Kaggle which was downloaded from insideairbnb.com. It contains details of Airbnb listings such as prices, reviews, size of the place, etc. with 96 attributes with 20,030 data samples. </p>"
   ]
  },
  {
   "cell_type": "markdown",
   "metadata": {},
   "source": [
    "## 3. Algorithm/techniques for different learning tasks\n",
    "<ul>\n",
    "    <li><b>Neural networks</b>: A neural network is a type of machine learning consisting of neurons, weights and biases. It allows them to be trained for classification including pattern recognition. </li>\n",
    "    <li><b>Association and Correlation</b>: </li>\n",
    "    <li><b>Characterization</b>:</li>\n",
    "</ul>\n",
    "    "
   ]
  },
  {
   "cell_type": "markdown",
   "metadata": {},
   "source": [
    "## 4. Measurements to evaluate the results\n",
    "\n"
   ]
  },
  {
   "cell_type": "code",
   "execution_count": null,
   "metadata": {},
   "outputs": [],
   "source": []
  },
  {
   "cell_type": "code",
   "execution_count": 18,
   "metadata": {},
   "outputs": [],
   "source": [
    "import numpy as np\n",
    "import pandas as pd\n",
    "import math\n",
    "from matplotlib import pyplot as plt\n",
    "\n",
    "# Read dataset\n",
    "col_list = ['host_response_rate', 'host_is_superhost', 'host_identity_verified', 'zipcode', 'property_type', 'room_type', 'accommodates', 'bathrooms', 'bedrooms', 'beds', 'price', 'weekly_price', 'monthly_price', 'security_deposit', 'number_of_reviews', 'review_scores_rating']\n",
    "df = pd.read_csv(\"/Users/katyang/Desktop/Uni/Year2-Trimester2/3804ICT/Assignment/listings_details.csv\", usecols=col_list)\n"
   ]
  },
  {
   "cell_type": "code",
   "execution_count": 19,
   "metadata": {},
   "outputs": [],
   "source": [
    "# host_response_rate - remove '%' and change object to int \n",
    "try: \n",
    "    df['host_response_rate'] = df['host_response_rate'].str.replace('%', '')\n",
    "    df['host_response_rate'] = df['host_response_rate'].astype(int)\n",
    "except:\n",
    "    pass"
   ]
  },
  {
   "cell_type": "code",
   "execution_count": 20,
   "metadata": {},
   "outputs": [],
   "source": [
    "# host_is_superhost - change object to BOOL\n",
    "try: \n",
    "    df['host_is_superhost'] = df['host_is_superhost'].str.replace('f', 'FALSE')\n",
    "    df['host_is_superhost'] = df['host_is_superhost'].str.replace('t', 'TRUE')\n",
    "    df['host_is_superhost'] = df['host_is_superhost'].astype(bool)\n",
    "except:\n",
    "    pass"
   ]
  },
  {
   "cell_type": "code",
   "execution_count": 21,
   "metadata": {},
   "outputs": [],
   "source": [
    "# host_identity_verified - change object to BOOL\n",
    "try: \n",
    "    df['host_identity_verified'] = df['host_identity_verified'].str.replace('f', 'FALSE')\n",
    "    df['host_identity_verified'] = df['host_identity_verified'].str.replace('t', 'TRUE')\n",
    "    df['host_identity_verified'] = df['host_identity_verified'].astype(bool)\n",
    "except:\n",
    "    pass"
   ]
  },
  {
   "cell_type": "code",
   "execution_count": 22,
   "metadata": {},
   "outputs": [],
   "source": [
    "# weekly_price, monthly_price, security_deposit, Price \n",
    "#                     - remove '$' and ',' and change string to float\n",
    "try: \n",
    "    df['price'] = df['price'].str.replace(',', '')\n",
    "    df['price'] = df['price'].str.replace('$', '')\n",
    "    df['price'] = df['price'].astype(float)\n",
    "\n",
    "    df['weekly_price'] = df['weekly_price'].str.replace(',', '')\n",
    "    df['weekly_price'] = df['weekly_price'].str.replace('$', '')\n",
    "    df['weekly_price'] = df['weekly_price'].astype(float)\n",
    "\n",
    "    df['monthly_price'] = df['monthly_price'].str.replace(',', '')\n",
    "    df['monthly_price'] = df['monthly_price'].str.replace('$', '')\n",
    "    df['monthly_price'] = df['monthly_price'].astype(float)\n",
    "    \n",
    "    df['security_deposit'] = df['security_deposit'].str.replace(',', '')\n",
    "    df['security_deposit'] = df['security_deposit'].str.replace('$', '')\n",
    "    df['security_deposit'] = df['security_deposit'].astype(float)\n",
    "    \n",
    "except:\n",
    "    pass"
   ]
  },
  {
   "cell_type": "markdown",
   "metadata": {},
   "source": [
    "## 5. a) Data exploration"
   ]
  },
  {
   "cell_type": "markdown",
   "metadata": {},
   "source": [
    "<ul>\n",
    "    <li style=\"font-size:16px\">Number of the data samples</li>\n",
    "    <ul>\n",
    "        <li style=\"list-style-type: square\">Total number of samples: 20,030</li>\n",
    "    </ul>\n",
    "</ul>\n"
   ]
  },
  {
   "cell_type": "code",
   "execution_count": 25,
   "metadata": {
    "scrolled": false
   },
   "outputs": [
    {
     "data": {
      "text/plain": [
       "<bound method DataFrame.count of       host_response_rate  host_is_superhost  host_identity_verified  zipcode  \\\n",
       "0                    100               True                    True      NaN   \n",
       "1                    100               True                    True  1013 XE   \n",
       "2                    100               True                    True     1017   \n",
       "3                    100               True                    True     1016   \n",
       "4                    100               True                    True     1013   \n",
       "...                  ...                ...                     ...      ...   \n",
       "20025                NaN               True                    True  1098 VV   \n",
       "20026                NaN               True                    True     1094   \n",
       "20027                NaN               True                    True  1093 GB   \n",
       "20028                NaN               True                    True     1094   \n",
       "20029                NaN               True                    True  1078 CL   \n",
       "\n",
       "      property_type        room_type  accommodates  bathrooms  bedrooms  beds  \\\n",
       "0         Apartment     Private room             2        1.5       1.0   2.0   \n",
       "1         Apartment  Entire home/apt             5        1.0       2.0   2.0   \n",
       "2         Townhouse  Entire home/apt             2        1.0       1.0   1.0   \n",
       "3         Apartment  Entire home/apt             3        1.0       1.0   1.0   \n",
       "4         Houseboat     Private room             2        1.0       1.0   1.0   \n",
       "...             ...              ...           ...        ...       ...   ...   \n",
       "20025         House  Entire home/apt             4        2.0       3.0   4.0   \n",
       "20026     Apartment  Entire home/apt             3        1.0       2.0   3.0   \n",
       "20027     Apartment  Entire home/apt             2        1.0       1.0   1.0   \n",
       "20028     Apartment     Private room             2        1.0       1.0   1.0   \n",
       "20029     Apartment  Entire home/apt             4        1.0       2.0   2.0   \n",
       "\n",
       "       price  weekly_price  monthly_price  security_deposit  \\\n",
       "0       59.0           NaN         1500.0             100.0   \n",
       "1      160.0         543.0         2000.0             300.0   \n",
       "2       80.0           NaN            NaN               NaN   \n",
       "3      125.0         650.0         2000.0             300.0   \n",
       "4      150.0         810.0         2500.0               0.0   \n",
       "...      ...           ...            ...               ...   \n",
       "20025  340.0           NaN            NaN             500.0   \n",
       "20026  150.0           NaN            NaN               0.0   \n",
       "20027   80.0           NaN            NaN               NaN   \n",
       "20028   55.0           NaN            NaN               NaN   \n",
       "20029  220.0           NaN            NaN               0.0   \n",
       "\n",
       "       number_of_reviews  review_scores_rating  \n",
       "0                    248                  97.0  \n",
       "1                     42                  96.0  \n",
       "2                    233                  87.0  \n",
       "3                      1                 100.0  \n",
       "4                    171                  99.0  \n",
       "...                  ...                   ...  \n",
       "20025                  0                   NaN  \n",
       "20026                  0                   NaN  \n",
       "20027                  0                   NaN  \n",
       "20028                  0                   NaN  \n",
       "20029                  0                   NaN  \n",
       "\n",
       "[20030 rows x 16 columns]>"
      ]
     },
     "execution_count": 25,
     "metadata": {},
     "output_type": "execute_result"
    }
   ],
   "source": [
    "df.count"
   ]
  },
  {
   "cell_type": "markdown",
   "metadata": {},
   "source": [
    "<br>\n",
    "<br>\n",
    "<ul>\n",
    "    <ul>\n",
    "        <li style=\"list-style-type: square\">Total number of NULL</li>\n",
    "    </ul>\n",
    "</ul>\n"
   ]
  },
  {
   "cell_type": "code",
   "execution_count": 28,
   "metadata": {},
   "outputs": [
    {
     "data": {
      "text/plain": [
       "host_response_rate         9483\n",
       "host_is_superhost             0\n",
       "host_identity_verified        0\n",
       "zipcode                     866\n",
       "property_type                 0\n",
       "room_type                     0\n",
       "accommodates                  0\n",
       "bathrooms                    10\n",
       "bedrooms                      8\n",
       "beds                          7\n",
       "price                         0\n",
       "weekly_price              17187\n",
       "monthly_price             18469\n",
       "security_deposit           6166\n",
       "number_of_reviews             0\n",
       "review_scores_rating       2639\n",
       "dtype: int64"
      ]
     },
     "execution_count": 28,
     "metadata": {},
     "output_type": "execute_result"
    }
   ],
   "source": [
    "df.isnull().sum(axis = 0)"
   ]
  },
  {
   "cell_type": "markdown",
   "metadata": {},
   "source": [
    "<br>\n",
    "<br>\n",
    "<ul>\n",
    "    <li style=\"font-size:16px\">Types of attributes</li>\n",
    "</ul>"
   ]
  },
  {
   "cell_type": "code",
   "execution_count": 8,
   "metadata": {},
   "outputs": [
    {
     "data": {
      "text/plain": [
       "host_response_rate         object\n",
       "host_is_superhost            bool\n",
       "host_identity_verified       bool\n",
       "zipcode                    object\n",
       "property_type              object\n",
       "room_type                  object\n",
       "accommodates                int64\n",
       "bathrooms                 float64\n",
       "bedrooms                  float64\n",
       "beds                      float64\n",
       "price                     float64\n",
       "weekly_price              float64\n",
       "monthly_price             float64\n",
       "security_deposit          float64\n",
       "number_of_reviews           int64\n",
       "review_scores_rating      float64\n",
       "dtype: object"
      ]
     },
     "execution_count": 8,
     "metadata": {},
     "output_type": "execute_result"
    }
   ],
   "source": [
    "df.dtypes"
   ]
  },
  {
   "cell_type": "markdown",
   "metadata": {},
   "source": [
    "<br>\n",
    "<br>\n",
    "<ul>\n",
    "    <li style=\"font-size:16px\">statistical information of each attribute - Five number summery</li>\n",
    "</ul>"
   ]
  },
  {
   "cell_type": "code",
   "execution_count": 9,
   "metadata": {},
   "outputs": [
    {
     "data": {
      "text/html": [
       "<div>\n",
       "<style scoped>\n",
       "    .dataframe tbody tr th:only-of-type {\n",
       "        vertical-align: middle;\n",
       "    }\n",
       "\n",
       "    .dataframe tbody tr th {\n",
       "        vertical-align: top;\n",
       "    }\n",
       "\n",
       "    .dataframe thead th {\n",
       "        text-align: right;\n",
       "    }\n",
       "</style>\n",
       "<table border=\"1\" class=\"dataframe\">\n",
       "  <thead>\n",
       "    <tr style=\"text-align: right;\">\n",
       "      <th></th>\n",
       "      <th>accommodates</th>\n",
       "      <th>bathrooms</th>\n",
       "      <th>bedrooms</th>\n",
       "      <th>beds</th>\n",
       "      <th>price</th>\n",
       "      <th>weekly_price</th>\n",
       "      <th>monthly_price</th>\n",
       "      <th>security_deposit</th>\n",
       "      <th>number_of_reviews</th>\n",
       "      <th>review_scores_rating</th>\n",
       "    </tr>\n",
       "  </thead>\n",
       "  <tbody>\n",
       "    <tr>\n",
       "      <th>count</th>\n",
       "      <td>20030.000000</td>\n",
       "      <td>20020.000000</td>\n",
       "      <td>20022.00000</td>\n",
       "      <td>20023.000000</td>\n",
       "      <td>20030.000000</td>\n",
       "      <td>2843.000000</td>\n",
       "      <td>1561.000000</td>\n",
       "      <td>13864.000000</td>\n",
       "      <td>20030.000000</td>\n",
       "      <td>17391.000000</td>\n",
       "    </tr>\n",
       "    <tr>\n",
       "      <th>mean</th>\n",
       "      <td>2.891912</td>\n",
       "      <td>1.137662</td>\n",
       "      <td>1.44506</td>\n",
       "      <td>1.849223</td>\n",
       "      <td>152.181178</td>\n",
       "      <td>821.054872</td>\n",
       "      <td>2594.989110</td>\n",
       "      <td>221.875577</td>\n",
       "      <td>21.560459</td>\n",
       "      <td>94.849520</td>\n",
       "    </tr>\n",
       "    <tr>\n",
       "      <th>std</th>\n",
       "      <td>1.318760</td>\n",
       "      <td>0.793903</td>\n",
       "      <td>0.88568</td>\n",
       "      <td>1.389664</td>\n",
       "      <td>145.828976</td>\n",
       "      <td>458.844485</td>\n",
       "      <td>1527.438816</td>\n",
       "      <td>340.210814</td>\n",
       "      <td>43.240292</td>\n",
       "      <td>6.648685</td>\n",
       "    </tr>\n",
       "    <tr>\n",
       "      <th>min</th>\n",
       "      <td>1.000000</td>\n",
       "      <td>0.000000</td>\n",
       "      <td>0.00000</td>\n",
       "      <td>0.000000</td>\n",
       "      <td>0.000000</td>\n",
       "      <td>100.000000</td>\n",
       "      <td>550.000000</td>\n",
       "      <td>0.000000</td>\n",
       "      <td>0.000000</td>\n",
       "      <td>20.000000</td>\n",
       "    </tr>\n",
       "    <tr>\n",
       "      <th>25%</th>\n",
       "      <td>2.000000</td>\n",
       "      <td>1.000000</td>\n",
       "      <td>1.00000</td>\n",
       "      <td>1.000000</td>\n",
       "      <td>96.000000</td>\n",
       "      <td>550.000000</td>\n",
       "      <td>1650.000000</td>\n",
       "      <td>0.000000</td>\n",
       "      <td>3.000000</td>\n",
       "      <td>93.000000</td>\n",
       "    </tr>\n",
       "    <tr>\n",
       "      <th>50%</th>\n",
       "      <td>2.000000</td>\n",
       "      <td>1.000000</td>\n",
       "      <td>1.00000</td>\n",
       "      <td>1.000000</td>\n",
       "      <td>125.000000</td>\n",
       "      <td>700.000000</td>\n",
       "      <td>2200.000000</td>\n",
       "      <td>150.000000</td>\n",
       "      <td>8.000000</td>\n",
       "      <td>97.000000</td>\n",
       "    </tr>\n",
       "    <tr>\n",
       "      <th>75%</th>\n",
       "      <td>4.000000</td>\n",
       "      <td>1.000000</td>\n",
       "      <td>2.00000</td>\n",
       "      <td>2.000000</td>\n",
       "      <td>175.000000</td>\n",
       "      <td>950.000000</td>\n",
       "      <td>3000.000000</td>\n",
       "      <td>295.000000</td>\n",
       "      <td>22.000000</td>\n",
       "      <td>100.000000</td>\n",
       "    </tr>\n",
       "    <tr>\n",
       "      <th>max</th>\n",
       "      <td>17.000000</td>\n",
       "      <td>100.500000</td>\n",
       "      <td>12.00000</td>\n",
       "      <td>32.000000</td>\n",
       "      <td>8500.000000</td>\n",
       "      <td>6000.000000</td>\n",
       "      <td>20000.000000</td>\n",
       "      <td>4736.000000</td>\n",
       "      <td>695.000000</td>\n",
       "      <td>100.000000</td>\n",
       "    </tr>\n",
       "  </tbody>\n",
       "</table>\n",
       "</div>"
      ],
      "text/plain": [
       "       accommodates     bathrooms     bedrooms          beds         price  \\\n",
       "count  20030.000000  20020.000000  20022.00000  20023.000000  20030.000000   \n",
       "mean       2.891912      1.137662      1.44506      1.849223    152.181178   \n",
       "std        1.318760      0.793903      0.88568      1.389664    145.828976   \n",
       "min        1.000000      0.000000      0.00000      0.000000      0.000000   \n",
       "25%        2.000000      1.000000      1.00000      1.000000     96.000000   \n",
       "50%        2.000000      1.000000      1.00000      1.000000    125.000000   \n",
       "75%        4.000000      1.000000      2.00000      2.000000    175.000000   \n",
       "max       17.000000    100.500000     12.00000     32.000000   8500.000000   \n",
       "\n",
       "       weekly_price  monthly_price  security_deposit  number_of_reviews  \\\n",
       "count   2843.000000    1561.000000      13864.000000       20030.000000   \n",
       "mean     821.054872    2594.989110        221.875577          21.560459   \n",
       "std      458.844485    1527.438816        340.210814          43.240292   \n",
       "min      100.000000     550.000000          0.000000           0.000000   \n",
       "25%      550.000000    1650.000000          0.000000           3.000000   \n",
       "50%      700.000000    2200.000000        150.000000           8.000000   \n",
       "75%      950.000000    3000.000000        295.000000          22.000000   \n",
       "max     6000.000000   20000.000000       4736.000000         695.000000   \n",
       "\n",
       "       review_scores_rating  \n",
       "count          17391.000000  \n",
       "mean              94.849520  \n",
       "std                6.648685  \n",
       "min               20.000000  \n",
       "25%               93.000000  \n",
       "50%               97.000000  \n",
       "75%              100.000000  \n",
       "max              100.000000  "
      ]
     },
     "execution_count": 9,
     "metadata": {},
     "output_type": "execute_result"
    }
   ],
   "source": [
    "df.describe()"
   ]
  },
  {
   "cell_type": "code",
   "execution_count": null,
   "metadata": {},
   "outputs": [],
   "source": []
  },
  {
   "cell_type": "code",
   "execution_count": null,
   "metadata": {},
   "outputs": [],
   "source": []
  },
  {
   "cell_type": "markdown",
   "metadata": {},
   "source": [
    "### Outliers in price"
   ]
  },
  {
   "cell_type": "code",
   "execution_count": 10,
   "metadata": {},
   "outputs": [
    {
     "data": {
      "image/png": "[encoded data removed]",
      "text/plain": [
       "<Figure size 432x288 with 1 Axes>"
      ]
     },
     "metadata": {
      "needs_background": "light"
     },
     "output_type": "display_data"
    }
   ],
   "source": [
    "plt.boxplot(df['price'])\n",
    "plt.show()"
   ]
  },
  {
   "cell_type": "markdown",
   "metadata": {},
   "source": [
    "### Remove outliers in price"
   ]
  },
  {
   "cell_type": "code",
   "execution_count": 11,
   "metadata": {},
   "outputs": [],
   "source": [
    "from scipy import stats\n",
    "\n",
    "df['z_score'] = np.abs(stats.zscore(df['price']))\n",
    "df = df[df.z_score < 3]"
   ]
  },
  {
   "cell_type": "code",
   "execution_count": 12,
   "metadata": {},
   "outputs": [
    {
     "data": {
      "image/png": "[encoded data removed]",
      "text/plain": [
       "<Figure size 432x288 with 1 Axes>"
      ]
     },
     "metadata": {
      "needs_background": "light"
     },
     "output_type": "display_data"
    }
   ],
   "source": [
    "plt.boxplot(df['price'])\n",
    "plt.show()"
   ]
  },
  {
   "cell_type": "code",
   "execution_count": 13,
   "metadata": {},
   "outputs": [],
   "source": [
    "df = df['host_response_rate'],['host_is_superhost'],['host_identity_verified'],['zipcode'],['property_type'],['room_type'],['accommodates'],['bathrooms'],['bedrooms'],['beds'],['price'],['weekly_price'],['monthly_price'],['security_deposit'],['number_of_reviews'],['review_scores_rating']"
   ]
  },
  {
   "cell_type": "code",
   "execution_count": 14,
   "metadata": {},
   "outputs": [
    {
     "ename": "AttributeError",
     "evalue": "'tuple' object has no attribute 'head'",
     "output_type": "error",
     "traceback": [
      "\u001b[0;31m---------------------------------------------------------------------------\u001b[0m",
      "\u001b[0;31mAttributeError\u001b[0m                            Traceback (most recent call last)",
      "\u001b[0;32m<ipython-input-14-89148ddff993>\u001b[0m in \u001b[0;36m<module>\u001b[0;34m\u001b[0m\n\u001b[0;32m----> 1\u001b[0;31m \u001b[0mdf\u001b[0m\u001b[0;34m.\u001b[0m\u001b[0mhead\u001b[0m\u001b[0;34m\u001b[0m\u001b[0;34m\u001b[0m\u001b[0m\n\u001b[0m",
      "\u001b[0;31mAttributeError\u001b[0m: 'tuple' object has no attribute 'head'"
     ]
    }
   ],
   "source": [
    "df.head"
   ]
  },
  {
   "cell_type": "code",
   "execution_count": null,
   "metadata": {},
   "outputs": [],
   "source": []
  }
 ],
 "metadata": {
  "kernelspec": {
   "display_name": "Python 3",
   "language": "python",
   "name": "python3"
  },
  "language_info": {
   "codemirror_mode": {
    "name": "ipython",
    "version": 3
   },
   "file_extension": ".py",
   "mimetype": "text/x-python",
   "name": "python",
   "nbconvert_exporter": "python",
   "pygments_lexer": "ipython3",
   "version": "3.7.4"
  }
 },
 "nbformat": 4,
 "nbformat_minor": 4
}
