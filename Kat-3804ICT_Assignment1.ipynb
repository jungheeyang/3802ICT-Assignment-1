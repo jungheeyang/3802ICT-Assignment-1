{
 "cells": [
  {
   "cell_type": "markdown",
   "metadata": {},
   "source": [
    "# 3802ICT Assignment 1"
   ]
  },
  {
   "cell_type": "markdown",
   "metadata": {},
   "source": [
    "<p style=\"text-align:right\">Junghee Yang (Kat) <br>\n",
    "Regnier Avice<br>\n",
    "Yunpeng Huang (Steven)</p>"
   ]
  },
  {
   "cell_type": "markdown",
   "metadata": {},
   "source": [
    "## Project title:"
   ]
  },
  {
   "cell_type": "markdown",
   "metadata": {},
   "source": [
    "## ● A brief description of the problem/question\n",
    "<p>Amsterdam is the capital city of Netherland with a population of 870,000 with 17 million tourists every year. Many tourists these days are staying at Airbnb hosted by homeowners. This dataset is from insiderairbnb.com which contains descriptions of Airbnb listings on 6th of December 2018 in Amsterdam. The dataset includes the name of the listing, number of reviews, locations, etc. </p>\n",
    "\n",
    "<p>This projects are consist of these problems/questions:</p>\n",
    " \n",
    "\n",
    "<ul>\n",
    "    <li><b>Classification and label prediction -</b> Can prices be predicted by the size of property and reviews?</li>\n",
    "    <li><b>Association and Correlation - </b></li>\n",
    "    <li><b>Clustering </b> - Do patterns in listening attributes correspond with the geographical location of the listenings?</li>\n",
    "</ul>\n",
    "\n"
   ]
  },
  {
   "cell_type": "markdown",
   "metadata": {},
   "source": [
    "## ● Dataset description\n",
    "<p>The dataset contains Airbnb listings in Amsterdam on 6th December 2018 and it was retrieved from Kaggle which was downloaded from insideairbnb.com. It contains details of Airbnb listings such as prices, reviews, size of the place, etc. with 96 attributes with 20,030 data samples. </p>"
   ]
  },
  {
   "cell_type": "markdown",
   "metadata": {},
   "source": [
    "## ● Algorithms/techniques for different learning tasks"
   ]
  },
  {
   "cell_type": "markdown",
   "metadata": {},
   "source": [
    "### - Classification and label prediction\n",
    "<b>Linear Regression</b>: Regression is a supervised machine learning method that provides predictions from data by learning the relationship between entities. It is widely used in biological, behavioral and social sciences to describe possible relationships between variables. "
   ]
  },
  {
   "cell_type": "markdown",
   "metadata": {},
   "source": [
    "### - Association and Correlation\n",
    "<b>Alg:</b> Description"
   ]
  },
  {
   "cell_type": "markdown",
   "metadata": {},
   "source": [
    "### - Clustering\n",
    "<b>K-Means (Lloyd’s Algorithm):</b> K-Means clustering is based on the idea to generate k clusters and assign each point to the cluster with the nearest mean-point. The optimal approach is NP-Hard with exponential time complexity. The Lloyd’s Algorithm is a heuristic approach to approximate the optimal result which in practice should run in linear time complexity <font color=\"red\">reference</font>."
   ]
  },
  {
   "cell_type": "markdown",
   "metadata": {},
   "source": [
    "## ● Measurements to evaluate the results"
   ]
  },
  {
   "cell_type": "markdown",
   "metadata": {},
   "source": [
    "### - Regression\n",
    "#### Mean squared error\n",
    "\n",
    "Mean squared error is the average squared differene between the estiation and the reuslts. It is always positive value and the closer to zero, more accurate the estimation. MSE is computed as\n",
    "\n",
    "$\n",
    "{\\large\n",
    "\\begin{align}\n",
    "MSE = \\frac{1}{n}\\sum (Y_i - \\hat{Y}_i)^2\n",
    "\\end{align}\n",
    "}%\n",
    "$\n",
    "\n",
    ", where $\n",
    "{\n",
    "\\begin{align}\n",
    "Y\n",
    "\\end{align}\n",
    "}%\n",
    "$ is the tector of observed values of the variable being predicted, with $\n",
    "{\n",
    "\\begin{align}\n",
    "\\hat{Y}\n",
    "\\end{align}\n",
    "}%\n",
    "$ being the predicted value. "
   ]
  },
  {
   "cell_type": "markdown",
   "metadata": {},
   "source": [
    "### - Association and Correlation\n",
    "Some metrics"
   ]
  },
  {
   "cell_type": "markdown",
   "metadata": {},
   "source": [
    "### - Clustering\n",
    "\n",
    "To evaluate the effectiveness of clusters the Intracluster and Intercluster distance is measured. Effective clustering minimizes the Intracluster distance while maximizing the Intercluster distance.\n",
    "\n",
    "For this project two popular methods are used. The Dunn Index and the Silhouette analysis.\n",
    "\n",
    "#### Dunn Index\n",
    "\n",
    "The goal is to maximize the value of the Dunn Index. A high Dunn Index indicates large inter cluster distance and low intra cluster distance. \n",
    "\n",
    "$\n",
    "{\\large\n",
    "\\begin{align}\n",
    "DunnIndex = \\frac{min(d(InterCluster))}{max (d(IntraCluster))} \n",
    "\\end{align}\n",
    "}%\n",
    "$\n",
    "\n",
    "\n",
    "where the inter cluster distance is the maximum distance between two points of two clusters\n",
    "\n",
    "$\n",
    "{\\large\n",
    "\\begin{align}\n",
    "d(InterCluster) = max(C_{a_i}, C_{b_j})\n",
    "\\end{align}\n",
    "}%\n",
    "$\n",
    "\n",
    "\n",
    "and the intra cluster distance is maximum distance between two points of the same cluster\n",
    "\n",
    "$\n",
    "{\\large\n",
    "\\begin{align}\n",
    "d(InterCluster) = max(C_{a_i}, C_{a_j})\n",
    "\\end{align}\n",
    "}%\n",
    "$\n",
    "\n",
    "#### Silhouette analysis\n",
    "\n",
    "For each point the silhouette value will be caluclated which can have the range of [-1,1]. The goal is to maximize the silhouette value. Many negative values are an indication for to many or to few clusters. This value will be used to determine the right size of $k$.\n",
    "\n",
    "$\n",
    "{\\large\n",
    "\\begin{align}\n",
    "\\Delta s(i) = \\frac{b(i)-a(i)}{max (a(i),b(i)}\n",
    "\\end{align}\n",
    "}%\n",
    "$\n",
    "\n",
    "where $a(i)$ is the mean distance of the point $i$ to other points of the same cluster\n",
    "\n",
    "$\n",
    "{\\large\n",
    "\\begin{align}\n",
    "\\Delta a(i) = \\frac{\\Sigma  d(i,j)}{|C_i| -1}\n",
    "\\end{align}\n",
    "}%\n",
    "$\n",
    "\n",
    "and $b(i)$ is the minimum (In case of more than two clusters the smallest mean is taken) mean distance of the point $i$ to other points of the other cluster. \n",
    "$\n",
    "{\\large\n",
    "\\begin{align}\n",
    "\\Delta b(i) = min(\\frac{\\Sigma  d(i,j)}{|C_k|}) \\hspace{1cm}for \\hspace{0.5cm} k \\neq i\n",
    "\\end{align}\n",
    "}%\n",
    "$"
   ]
  },
  {
   "cell_type": "markdown",
   "metadata": {},
   "source": [
    "## Libaries"
   ]
  },
  {
   "cell_type": "code",
   "execution_count": 1,
   "metadata": {},
   "outputs": [],
   "source": [
    "# Import libraries and dataset \n",
    "import numpy as np\n",
    "import pandas as pd\n",
    "import math\n",
    "from matplotlib import pyplot as plt\n",
    "from scipy import stats"
   ]
  },
  {
   "cell_type": "markdown",
   "metadata": {},
   "source": [
    "## Dataset"
   ]
  },
  {
   "cell_type": "code",
   "execution_count": 2,
   "metadata": {},
   "outputs": [],
   "source": [
    "# Read dataset\n",
    "git_url = \"https://raw.githubusercontent.com/jungheeyang/3802ICT-Assignment-1/master/listings_details.csv\"\n",
    "col_list = ['host_response_rate', 'host_is_superhost', 'host_identity_verified', 'zipcode', \n",
    "            'property_type', 'room_type', 'accommodates', 'bathrooms', 'bedrooms', 'beds', \n",
    "            'price', 'weekly_price', 'monthly_price', 'security_deposit', 'number_of_reviews',\n",
    "            'review_scores_rating', 'latitude', 'longitude', 'is_location_exact']\n",
    "\n",
    "df = pd.read_csv(git_url, sep=',', usecols=col_list)"
   ]
  },
  {
   "cell_type": "markdown",
   "metadata": {},
   "source": [
    "## Initial Data pre-processing"
   ]
  },
  {
   "cell_type": "markdown",
   "metadata": {},
   "source": [
    "The initial preprocessing is conducted to convert the attribute data types into a consistent format before the data exploration is started"
   ]
  },
  {
   "cell_type": "code",
   "execution_count": 3,
   "metadata": {},
   "outputs": [
    {
     "data": {
      "text/html": [
       "<div>\n",
       "<style scoped>\n",
       "    .dataframe tbody tr th:only-of-type {\n",
       "        vertical-align: middle;\n",
       "    }\n",
       "\n",
       "    .dataframe tbody tr th {\n",
       "        vertical-align: top;\n",
       "    }\n",
       "\n",
       "    .dataframe thead th {\n",
       "        text-align: right;\n",
       "    }\n",
       "</style>\n",
       "<table border=\"1\" class=\"dataframe\">\n",
       "  <thead>\n",
       "    <tr style=\"text-align: right;\">\n",
       "      <th></th>\n",
       "      <th>host_response_rate</th>\n",
       "      <th>host_is_superhost</th>\n",
       "      <th>host_identity_verified</th>\n",
       "      <th>zipcode</th>\n",
       "      <th>latitude</th>\n",
       "      <th>longitude</th>\n",
       "      <th>is_location_exact</th>\n",
       "      <th>property_type</th>\n",
       "      <th>room_type</th>\n",
       "      <th>accommodates</th>\n",
       "      <th>bathrooms</th>\n",
       "      <th>bedrooms</th>\n",
       "      <th>beds</th>\n",
       "      <th>price</th>\n",
       "      <th>weekly_price</th>\n",
       "      <th>monthly_price</th>\n",
       "      <th>security_deposit</th>\n",
       "      <th>number_of_reviews</th>\n",
       "      <th>review_scores_rating</th>\n",
       "    </tr>\n",
       "  </thead>\n",
       "  <tbody>\n",
       "    <tr>\n",
       "      <th>0</th>\n",
       "      <td>100.0</td>\n",
       "      <td>True</td>\n",
       "      <td>True</td>\n",
       "      <td>NaN</td>\n",
       "      <td>52.365755</td>\n",
       "      <td>4.941419</td>\n",
       "      <td>f</td>\n",
       "      <td>Apartment</td>\n",
       "      <td>Private room</td>\n",
       "      <td>2</td>\n",
       "      <td>1.5</td>\n",
       "      <td>1.0</td>\n",
       "      <td>2.0</td>\n",
       "      <td>59.0</td>\n",
       "      <td>NaN</td>\n",
       "      <td>59.0</td>\n",
       "      <td>59.0</td>\n",
       "      <td>248</td>\n",
       "      <td>97.0</td>\n",
       "    </tr>\n",
       "    <tr>\n",
       "      <th>1</th>\n",
       "      <td>100.0</td>\n",
       "      <td>True</td>\n",
       "      <td>True</td>\n",
       "      <td>1013 XE</td>\n",
       "      <td>52.390225</td>\n",
       "      <td>4.873924</td>\n",
       "      <td>t</td>\n",
       "      <td>Apartment</td>\n",
       "      <td>Entire home/apt</td>\n",
       "      <td>5</td>\n",
       "      <td>1.0</td>\n",
       "      <td>2.0</td>\n",
       "      <td>2.0</td>\n",
       "      <td>160.0</td>\n",
       "      <td>$543.00</td>\n",
       "      <td>160.0</td>\n",
       "      <td>160.0</td>\n",
       "      <td>42</td>\n",
       "      <td>96.0</td>\n",
       "    </tr>\n",
       "    <tr>\n",
       "      <th>2</th>\n",
       "      <td>100.0</td>\n",
       "      <td>True</td>\n",
       "      <td>True</td>\n",
       "      <td>1017</td>\n",
       "      <td>52.365087</td>\n",
       "      <td>4.893541</td>\n",
       "      <td>t</td>\n",
       "      <td>Townhouse</td>\n",
       "      <td>Entire home/apt</td>\n",
       "      <td>2</td>\n",
       "      <td>1.0</td>\n",
       "      <td>1.0</td>\n",
       "      <td>1.0</td>\n",
       "      <td>80.0</td>\n",
       "      <td>NaN</td>\n",
       "      <td>80.0</td>\n",
       "      <td>80.0</td>\n",
       "      <td>233</td>\n",
       "      <td>87.0</td>\n",
       "    </tr>\n",
       "    <tr>\n",
       "      <th>3</th>\n",
       "      <td>100.0</td>\n",
       "      <td>True</td>\n",
       "      <td>True</td>\n",
       "      <td>1016</td>\n",
       "      <td>52.373114</td>\n",
       "      <td>4.883668</td>\n",
       "      <td>f</td>\n",
       "      <td>Apartment</td>\n",
       "      <td>Entire home/apt</td>\n",
       "      <td>3</td>\n",
       "      <td>1.0</td>\n",
       "      <td>1.0</td>\n",
       "      <td>1.0</td>\n",
       "      <td>125.0</td>\n",
       "      <td>$650.00</td>\n",
       "      <td>125.0</td>\n",
       "      <td>125.0</td>\n",
       "      <td>1</td>\n",
       "      <td>100.0</td>\n",
       "    </tr>\n",
       "    <tr>\n",
       "      <th>4</th>\n",
       "      <td>100.0</td>\n",
       "      <td>True</td>\n",
       "      <td>True</td>\n",
       "      <td>1013</td>\n",
       "      <td>52.386727</td>\n",
       "      <td>4.892078</td>\n",
       "      <td>t</td>\n",
       "      <td>Houseboat</td>\n",
       "      <td>Private room</td>\n",
       "      <td>2</td>\n",
       "      <td>1.0</td>\n",
       "      <td>1.0</td>\n",
       "      <td>1.0</td>\n",
       "      <td>150.0</td>\n",
       "      <td>$810.00</td>\n",
       "      <td>150.0</td>\n",
       "      <td>150.0</td>\n",
       "      <td>171</td>\n",
       "      <td>99.0</td>\n",
       "    </tr>\n",
       "  </tbody>\n",
       "</table>\n",
       "</div>"
      ],
      "text/plain": [
       "   host_response_rate  host_is_superhost  host_identity_verified  zipcode  \\\n",
       "0               100.0               True                    True      NaN   \n",
       "1               100.0               True                    True  1013 XE   \n",
       "2               100.0               True                    True     1017   \n",
       "3               100.0               True                    True     1016   \n",
       "4               100.0               True                    True     1013   \n",
       "\n",
       "    latitude  longitude is_location_exact property_type        room_type  \\\n",
       "0  52.365755   4.941419                 f     Apartment     Private room   \n",
       "1  52.390225   4.873924                 t     Apartment  Entire home/apt   \n",
       "2  52.365087   4.893541                 t     Townhouse  Entire home/apt   \n",
       "3  52.373114   4.883668                 f     Apartment  Entire home/apt   \n",
       "4  52.386727   4.892078                 t     Houseboat     Private room   \n",
       "\n",
       "   accommodates  bathrooms  bedrooms  beds  price weekly_price  monthly_price  \\\n",
       "0             2        1.5       1.0   2.0   59.0          NaN           59.0   \n",
       "1             5        1.0       2.0   2.0  160.0      $543.00          160.0   \n",
       "2             2        1.0       1.0   1.0   80.0          NaN           80.0   \n",
       "3             3        1.0       1.0   1.0  125.0      $650.00          125.0   \n",
       "4             2        1.0       1.0   1.0  150.0      $810.00          150.0   \n",
       "\n",
       "   security_deposit  number_of_reviews  review_scores_rating  \n",
       "0              59.0                248                  97.0  \n",
       "1             160.0                 42                  96.0  \n",
       "2              80.0                233                  87.0  \n",
       "3             125.0                  1                 100.0  \n",
       "4             150.0                171                  99.0  "
      ]
     },
     "execution_count": 3,
     "metadata": {},
     "output_type": "execute_result"
    }
   ],
   "source": [
    "def dollar_to_int(df):\n",
    "    df = df.replace('[\\$,]', '', regex=True).astype(float)\n",
    "    return df\n",
    "\n",
    "\n",
    "def obj_to_bool(df):\n",
    "    df = df.replace('f', 'FALSE', regex=True).astype(bool)\n",
    "    df = df.replace('t', 'TRUE', regex=True).astype(bool)\n",
    "    return df\n",
    "\n",
    "\n",
    "def percent_to_float(df):\n",
    "    df = df.replace('%', '', regex=True).astype(float)\n",
    "    return df\n",
    "\n",
    "\n",
    "df.host_response_rate = percent_to_float(df.host_response_rate)\n",
    "\n",
    "df.price = dollar_to_int(df.price)\n",
    "df.security_deposit = dollar_to_int(df.price)\n",
    "df.monthly_price = dollar_to_int(df.price)\n",
    "df.security_deposit = dollar_to_int(df.price)\n",
    "\n",
    "df.host_is_superhost = obj_to_bool(df.host_is_superhost)\n",
    "df.host_identity_verified = obj_to_bool(df.host_identity_verified)\n",
    "\n",
    "df.head()"
   ]
  },
  {
   "cell_type": "markdown",
   "metadata": {},
   "source": [
    "## Data exploration"
   ]
  },
  {
   "cell_type": "markdown",
   "metadata": {},
   "source": [
    "<ul>\n",
    "    <li style=\"font-size:16px\">Number of the data samples</li>\n",
    "    <ul>\n",
    "        <li style=\"list-style-type: square\">Total number of samples: 20,030</li>\n",
    "    </ul>\n",
    "</ul>\n"
   ]
  },
  {
   "cell_type": "code",
   "execution_count": 4,
   "metadata": {
    "scrolled": false
   },
   "outputs": [
    {
     "data": {
      "text/plain": [
       "<bound method DataFrame.count of        host_response_rate  host_is_superhost  host_identity_verified  zipcode  \\\n",
       "0                   100.0               True                    True      NaN   \n",
       "1                   100.0               True                    True  1013 XE   \n",
       "2                   100.0               True                    True     1017   \n",
       "3                   100.0               True                    True     1016   \n",
       "4                   100.0               True                    True     1013   \n",
       "...                   ...                ...                     ...      ...   \n",
       "20025                 NaN               True                    True  1098 VV   \n",
       "20026                 NaN               True                    True     1094   \n",
       "20027                 NaN               True                    True  1093 GB   \n",
       "20028                 NaN               True                    True     1094   \n",
       "20029                 NaN               True                    True  1078 CL   \n",
       "\n",
       "        latitude  longitude is_location_exact property_type        room_type  \\\n",
       "0      52.365755   4.941419                 f     Apartment     Private room   \n",
       "1      52.390225   4.873924                 t     Apartment  Entire home/apt   \n",
       "2      52.365087   4.893541                 t     Townhouse  Entire home/apt   \n",
       "3      52.373114   4.883668                 f     Apartment  Entire home/apt   \n",
       "4      52.386727   4.892078                 t     Houseboat     Private room   \n",
       "...          ...        ...               ...           ...              ...   \n",
       "20025  52.345999   4.952145                 t         House  Entire home/apt   \n",
       "20026  52.362412   4.932467                 t     Apartment  Entire home/apt   \n",
       "20027  52.362431   4.926912                 f     Apartment  Entire home/apt   \n",
       "20028  52.363780   4.932493                 t     Apartment     Private room   \n",
       "20029  52.346911   4.901932                 t     Apartment  Entire home/apt   \n",
       "\n",
       "       accommodates  bathrooms  bedrooms  beds  price weekly_price  \\\n",
       "0                 2        1.5       1.0   2.0   59.0          NaN   \n",
       "1                 5        1.0       2.0   2.0  160.0      $543.00   \n",
       "2                 2        1.0       1.0   1.0   80.0          NaN   \n",
       "3                 3        1.0       1.0   1.0  125.0      $650.00   \n",
       "4                 2        1.0       1.0   1.0  150.0      $810.00   \n",
       "...             ...        ...       ...   ...    ...          ...   \n",
       "20025             4        2.0       3.0   4.0  340.0          NaN   \n",
       "20026             3        1.0       2.0   3.0  150.0          NaN   \n",
       "20027             2        1.0       1.0   1.0   80.0          NaN   \n",
       "20028             2        1.0       1.0   1.0   55.0          NaN   \n",
       "20029             4        1.0       2.0   2.0  220.0          NaN   \n",
       "\n",
       "       monthly_price  security_deposit  number_of_reviews  \\\n",
       "0               59.0              59.0                248   \n",
       "1              160.0             160.0                 42   \n",
       "2               80.0              80.0                233   \n",
       "3              125.0             125.0                  1   \n",
       "4              150.0             150.0                171   \n",
       "...              ...               ...                ...   \n",
       "20025          340.0             340.0                  0   \n",
       "20026          150.0             150.0                  0   \n",
       "20027           80.0              80.0                  0   \n",
       "20028           55.0              55.0                  0   \n",
       "20029          220.0             220.0                  0   \n",
       "\n",
       "       review_scores_rating  \n",
       "0                      97.0  \n",
       "1                      96.0  \n",
       "2                      87.0  \n",
       "3                     100.0  \n",
       "4                      99.0  \n",
       "...                     ...  \n",
       "20025                   NaN  \n",
       "20026                   NaN  \n",
       "20027                   NaN  \n",
       "20028                   NaN  \n",
       "20029                   NaN  \n",
       "\n",
       "[20030 rows x 19 columns]>"
      ]
     },
     "execution_count": 4,
     "metadata": {},
     "output_type": "execute_result"
    }
   ],
   "source": [
    "df.count"
   ]
  },
  {
   "cell_type": "markdown",
   "metadata": {},
   "source": [
    "<br>\n",
    "<br>\n",
    "<ul>\n",
    "    <ul>\n",
    "        <li style=\"list-style-type: square\">Total number of NULL</li>\n",
    "    </ul>\n",
    "</ul>\n"
   ]
  },
  {
   "cell_type": "code",
   "execution_count": 5,
   "metadata": {},
   "outputs": [
    {
     "data": {
      "text/plain": [
       "host_response_rate         9483\n",
       "host_is_superhost             0\n",
       "host_identity_verified        0\n",
       "zipcode                     866\n",
       "latitude                      0\n",
       "longitude                     0\n",
       "is_location_exact             0\n",
       "property_type                 0\n",
       "room_type                     0\n",
       "accommodates                  0\n",
       "bathrooms                    10\n",
       "bedrooms                      8\n",
       "beds                          7\n",
       "price                         0\n",
       "weekly_price              17187\n",
       "monthly_price                 0\n",
       "security_deposit              0\n",
       "number_of_reviews             0\n",
       "review_scores_rating       2639\n",
       "dtype: int64"
      ]
     },
     "execution_count": 5,
     "metadata": {},
     "output_type": "execute_result"
    }
   ],
   "source": [
    "df.isnull().sum(axis = 0)"
   ]
  },
  {
   "cell_type": "markdown",
   "metadata": {},
   "source": [
    "<br>\n",
    "<br>\n",
    "<ul>\n",
    "    <li style=\"font-size:16px\">Types of attributes</li>\n",
    "</ul>"
   ]
  },
  {
   "cell_type": "code",
   "execution_count": 6,
   "metadata": {},
   "outputs": [
    {
     "data": {
      "text/plain": [
       "host_response_rate        float64\n",
       "host_is_superhost            bool\n",
       "host_identity_verified       bool\n",
       "zipcode                    object\n",
       "latitude                  float64\n",
       "longitude                 float64\n",
       "is_location_exact          object\n",
       "property_type              object\n",
       "room_type                  object\n",
       "accommodates                int64\n",
       "bathrooms                 float64\n",
       "bedrooms                  float64\n",
       "beds                      float64\n",
       "price                     float64\n",
       "weekly_price               object\n",
       "monthly_price             float64\n",
       "security_deposit          float64\n",
       "number_of_reviews           int64\n",
       "review_scores_rating      float64\n",
       "dtype: object"
      ]
     },
     "execution_count": 6,
     "metadata": {},
     "output_type": "execute_result"
    }
   ],
   "source": [
    "df.dtypes"
   ]
  },
  {
   "cell_type": "markdown",
   "metadata": {},
   "source": [
    "<br>\n",
    "<br>\n",
    "<ul>\n",
    "    <li style=\"font-size:16px\">statistical information of each attribute - Five number summery</li>\n",
    "</ul>"
   ]
  },
  {
   "cell_type": "code",
   "execution_count": 7,
   "metadata": {},
   "outputs": [
    {
     "data": {
      "text/html": [
       "<div>\n",
       "<style scoped>\n",
       "    .dataframe tbody tr th:only-of-type {\n",
       "        vertical-align: middle;\n",
       "    }\n",
       "\n",
       "    .dataframe tbody tr th {\n",
       "        vertical-align: top;\n",
       "    }\n",
       "\n",
       "    .dataframe thead th {\n",
       "        text-align: right;\n",
       "    }\n",
       "</style>\n",
       "<table border=\"1\" class=\"dataframe\">\n",
       "  <thead>\n",
       "    <tr style=\"text-align: right;\">\n",
       "      <th></th>\n",
       "      <th>host_response_rate</th>\n",
       "      <th>latitude</th>\n",
       "      <th>longitude</th>\n",
       "      <th>accommodates</th>\n",
       "      <th>bathrooms</th>\n",
       "      <th>bedrooms</th>\n",
       "      <th>beds</th>\n",
       "      <th>price</th>\n",
       "      <th>monthly_price</th>\n",
       "      <th>security_deposit</th>\n",
       "      <th>number_of_reviews</th>\n",
       "      <th>review_scores_rating</th>\n",
       "    </tr>\n",
       "  </thead>\n",
       "  <tbody>\n",
       "    <tr>\n",
       "      <th>count</th>\n",
       "      <td>10547.000000</td>\n",
       "      <td>20030.000000</td>\n",
       "      <td>20030.000000</td>\n",
       "      <td>20030.000000</td>\n",
       "      <td>20020.000000</td>\n",
       "      <td>20022.00000</td>\n",
       "      <td>20023.000000</td>\n",
       "      <td>20030.000000</td>\n",
       "      <td>20030.000000</td>\n",
       "      <td>20030.000000</td>\n",
       "      <td>20030.000000</td>\n",
       "      <td>17391.000000</td>\n",
       "    </tr>\n",
       "    <tr>\n",
       "      <th>mean</th>\n",
       "      <td>93.755950</td>\n",
       "      <td>52.365212</td>\n",
       "      <td>4.888977</td>\n",
       "      <td>2.891912</td>\n",
       "      <td>1.137662</td>\n",
       "      <td>1.44506</td>\n",
       "      <td>1.849223</td>\n",
       "      <td>152.181178</td>\n",
       "      <td>152.181178</td>\n",
       "      <td>152.181178</td>\n",
       "      <td>21.560459</td>\n",
       "      <td>94.849520</td>\n",
       "    </tr>\n",
       "    <tr>\n",
       "      <th>std</th>\n",
       "      <td>17.034864</td>\n",
       "      <td>0.015996</td>\n",
       "      <td>0.035573</td>\n",
       "      <td>1.318760</td>\n",
       "      <td>0.793903</td>\n",
       "      <td>0.88568</td>\n",
       "      <td>1.389664</td>\n",
       "      <td>145.828976</td>\n",
       "      <td>145.828976</td>\n",
       "      <td>145.828976</td>\n",
       "      <td>43.240292</td>\n",
       "      <td>6.648685</td>\n",
       "    </tr>\n",
       "    <tr>\n",
       "      <th>min</th>\n",
       "      <td>0.000000</td>\n",
       "      <td>52.288378</td>\n",
       "      <td>4.753247</td>\n",
       "      <td>1.000000</td>\n",
       "      <td>0.000000</td>\n",
       "      <td>0.00000</td>\n",
       "      <td>0.000000</td>\n",
       "      <td>0.000000</td>\n",
       "      <td>0.000000</td>\n",
       "      <td>0.000000</td>\n",
       "      <td>0.000000</td>\n",
       "      <td>20.000000</td>\n",
       "    </tr>\n",
       "    <tr>\n",
       "      <th>25%</th>\n",
       "      <td>100.000000</td>\n",
       "      <td>52.355126</td>\n",
       "      <td>4.863595</td>\n",
       "      <td>2.000000</td>\n",
       "      <td>1.000000</td>\n",
       "      <td>1.00000</td>\n",
       "      <td>1.000000</td>\n",
       "      <td>96.000000</td>\n",
       "      <td>96.000000</td>\n",
       "      <td>96.000000</td>\n",
       "      <td>3.000000</td>\n",
       "      <td>93.000000</td>\n",
       "    </tr>\n",
       "    <tr>\n",
       "      <th>50%</th>\n",
       "      <td>100.000000</td>\n",
       "      <td>52.364590</td>\n",
       "      <td>4.886387</td>\n",
       "      <td>2.000000</td>\n",
       "      <td>1.000000</td>\n",
       "      <td>1.00000</td>\n",
       "      <td>1.000000</td>\n",
       "      <td>125.000000</td>\n",
       "      <td>125.000000</td>\n",
       "      <td>125.000000</td>\n",
       "      <td>8.000000</td>\n",
       "      <td>97.000000</td>\n",
       "    </tr>\n",
       "    <tr>\n",
       "      <th>75%</th>\n",
       "      <td>100.000000</td>\n",
       "      <td>52.375074</td>\n",
       "      <td>4.908288</td>\n",
       "      <td>4.000000</td>\n",
       "      <td>1.000000</td>\n",
       "      <td>2.00000</td>\n",
       "      <td>2.000000</td>\n",
       "      <td>175.000000</td>\n",
       "      <td>175.000000</td>\n",
       "      <td>175.000000</td>\n",
       "      <td>22.000000</td>\n",
       "      <td>100.000000</td>\n",
       "    </tr>\n",
       "    <tr>\n",
       "      <th>max</th>\n",
       "      <td>100.000000</td>\n",
       "      <td>52.424713</td>\n",
       "      <td>5.027689</td>\n",
       "      <td>17.000000</td>\n",
       "      <td>100.500000</td>\n",
       "      <td>12.00000</td>\n",
       "      <td>32.000000</td>\n",
       "      <td>8500.000000</td>\n",
       "      <td>8500.000000</td>\n",
       "      <td>8500.000000</td>\n",
       "      <td>695.000000</td>\n",
       "      <td>100.000000</td>\n",
       "    </tr>\n",
       "  </tbody>\n",
       "</table>\n",
       "</div>"
      ],
      "text/plain": [
       "       host_response_rate      latitude     longitude  accommodates  \\\n",
       "count        10547.000000  20030.000000  20030.000000  20030.000000   \n",
       "mean            93.755950     52.365212      4.888977      2.891912   \n",
       "std             17.034864      0.015996      0.035573      1.318760   \n",
       "min              0.000000     52.288378      4.753247      1.000000   \n",
       "25%            100.000000     52.355126      4.863595      2.000000   \n",
       "50%            100.000000     52.364590      4.886387      2.000000   \n",
       "75%            100.000000     52.375074      4.908288      4.000000   \n",
       "max            100.000000     52.424713      5.027689     17.000000   \n",
       "\n",
       "          bathrooms     bedrooms          beds         price  monthly_price  \\\n",
       "count  20020.000000  20022.00000  20023.000000  20030.000000   20030.000000   \n",
       "mean       1.137662      1.44506      1.849223    152.181178     152.181178   \n",
       "std        0.793903      0.88568      1.389664    145.828976     145.828976   \n",
       "min        0.000000      0.00000      0.000000      0.000000       0.000000   \n",
       "25%        1.000000      1.00000      1.000000     96.000000      96.000000   \n",
       "50%        1.000000      1.00000      1.000000    125.000000     125.000000   \n",
       "75%        1.000000      2.00000      2.000000    175.000000     175.000000   \n",
       "max      100.500000     12.00000     32.000000   8500.000000    8500.000000   \n",
       "\n",
       "       security_deposit  number_of_reviews  review_scores_rating  \n",
       "count      20030.000000       20030.000000          17391.000000  \n",
       "mean         152.181178          21.560459             94.849520  \n",
       "std          145.828976          43.240292              6.648685  \n",
       "min            0.000000           0.000000             20.000000  \n",
       "25%           96.000000           3.000000             93.000000  \n",
       "50%          125.000000           8.000000             97.000000  \n",
       "75%          175.000000          22.000000            100.000000  \n",
       "max         8500.000000         695.000000            100.000000  "
      ]
     },
     "execution_count": 7,
     "metadata": {},
     "output_type": "execute_result"
    }
   ],
   "source": [
    "df.describe()"
   ]
  },
  {
   "cell_type": "markdown",
   "metadata": {},
   "source": [
    "## Data pre-processing"
   ]
  },
  {
   "cell_type": "code",
   "execution_count": 8,
   "metadata": {},
   "outputs": [],
   "source": [
    "# New data frame for cleaned data\n",
    "dfc = df.copy()"
   ]
  },
  {
   "cell_type": "markdown",
   "metadata": {},
   "source": [
    "### Drop unuseful column"
   ]
  },
  {
   "cell_type": "code",
   "execution_count": 9,
   "metadata": {},
   "outputs": [],
   "source": [
    "dfc.drop(['host_response_rate'], axis=1, inplace=True)"
   ]
  },
  {
   "cell_type": "markdown",
   "metadata": {},
   "source": [
    "### Remove unuseful records"
   ]
  },
  {
   "cell_type": "code",
   "execution_count": 10,
   "metadata": {},
   "outputs": [],
   "source": [
    "# Remove if beds, bedrooms, bathrooms, zipcode, review_scores_rating are missing\n",
    "dfc.dropna(subset=['beds', 'bedrooms', 'bathrooms', 'zipcode', 'review_scores_rating'], inplace=True)"
   ]
  },
  {
   "cell_type": "markdown",
   "metadata": {},
   "source": [
    "### Calculate missing weekly and monthly prices"
   ]
  },
  {
   "cell_type": "code",
   "execution_count": 11,
   "metadata": {},
   "outputs": [],
   "source": [
    "#Standard weekly price is 7*price\n",
    "dfc['weekly_price'].fillna(dfc['price']*7, inplace=True)\n",
    "\n",
    "#Standard monthly price is 30*price\n",
    "dfc['monthly_price'].fillna(dfc['price']*30, inplace=True)"
   ]
  },
  {
   "cell_type": "markdown",
   "metadata": {},
   "source": [
    "### Replace empty security deposit with 0"
   ]
  },
  {
   "cell_type": "code",
   "execution_count": 21,
   "metadata": {},
   "outputs": [],
   "source": [
    "dfc['security_deposit'].fillna(0, inplace=True)"
   ]
  },
  {
   "cell_type": "markdown",
   "metadata": {},
   "source": [
    "### Exclude property with listed price of 0"
   ]
  },
  {
   "cell_type": "code",
   "execution_count": 22,
   "metadata": {},
   "outputs": [],
   "source": [
    "dfc = dfc.loc[dfc['price'] > 0]"
   ]
  },
  {
   "cell_type": "markdown",
   "metadata": {},
   "source": [
    "### Remove outliers in price"
   ]
  },
  {
   "cell_type": "code",
   "execution_count": 13,
   "metadata": {},
   "outputs": [],
   "source": [
    "dfc['z_score'] = np.abs(stats.zscore(dfc['price']))\n",
    "dfc = dfc[dfc.z_score < 3]"
   ]
  },
  {
   "cell_type": "markdown",
   "metadata": {},
   "source": [
    "###  Check data after pre processing"
   ]
  },
  {
   "cell_type": "code",
   "execution_count": 14,
   "metadata": {},
   "outputs": [
    {
     "data": {
      "text/html": [
       "<div>\n",
       "<style scoped>\n",
       "    .dataframe tbody tr th:only-of-type {\n",
       "        vertical-align: middle;\n",
       "    }\n",
       "\n",
       "    .dataframe tbody tr th {\n",
       "        vertical-align: top;\n",
       "    }\n",
       "\n",
       "    .dataframe thead th {\n",
       "        text-align: right;\n",
       "    }\n",
       "</style>\n",
       "<table border=\"1\" class=\"dataframe\">\n",
       "  <thead>\n",
       "    <tr style=\"text-align: right;\">\n",
       "      <th></th>\n",
       "      <th>host_is_superhost</th>\n",
       "      <th>host_identity_verified</th>\n",
       "      <th>zipcode</th>\n",
       "      <th>latitude</th>\n",
       "      <th>longitude</th>\n",
       "      <th>is_location_exact</th>\n",
       "      <th>property_type</th>\n",
       "      <th>room_type</th>\n",
       "      <th>accommodates</th>\n",
       "      <th>bathrooms</th>\n",
       "      <th>bedrooms</th>\n",
       "      <th>beds</th>\n",
       "      <th>price</th>\n",
       "      <th>weekly_price</th>\n",
       "      <th>monthly_price</th>\n",
       "      <th>security_deposit</th>\n",
       "      <th>number_of_reviews</th>\n",
       "      <th>review_scores_rating</th>\n",
       "      <th>z_score</th>\n",
       "    </tr>\n",
       "  </thead>\n",
       "  <tbody>\n",
       "    <tr>\n",
       "      <th>1</th>\n",
       "      <td>True</td>\n",
       "      <td>True</td>\n",
       "      <td>1013 XE</td>\n",
       "      <td>52.390225</td>\n",
       "      <td>4.873924</td>\n",
       "      <td>t</td>\n",
       "      <td>Apartment</td>\n",
       "      <td>Entire home/apt</td>\n",
       "      <td>5</td>\n",
       "      <td>1.0</td>\n",
       "      <td>2.0</td>\n",
       "      <td>2.0</td>\n",
       "      <td>160.0</td>\n",
       "      <td>$543.00</td>\n",
       "      <td>160.0</td>\n",
       "      <td>160.0</td>\n",
       "      <td>42</td>\n",
       "      <td>96.0</td>\n",
       "      <td>0.097687</td>\n",
       "    </tr>\n",
       "    <tr>\n",
       "      <th>2</th>\n",
       "      <td>True</td>\n",
       "      <td>True</td>\n",
       "      <td>1017</td>\n",
       "      <td>52.365087</td>\n",
       "      <td>4.893541</td>\n",
       "      <td>t</td>\n",
       "      <td>Townhouse</td>\n",
       "      <td>Entire home/apt</td>\n",
       "      <td>2</td>\n",
       "      <td>1.0</td>\n",
       "      <td>1.0</td>\n",
       "      <td>1.0</td>\n",
       "      <td>80.0</td>\n",
       "      <td>560</td>\n",
       "      <td>80.0</td>\n",
       "      <td>80.0</td>\n",
       "      <td>233</td>\n",
       "      <td>87.0</td>\n",
       "      <td>0.554900</td>\n",
       "    </tr>\n",
       "    <tr>\n",
       "      <th>3</th>\n",
       "      <td>True</td>\n",
       "      <td>True</td>\n",
       "      <td>1016</td>\n",
       "      <td>52.373114</td>\n",
       "      <td>4.883668</td>\n",
       "      <td>f</td>\n",
       "      <td>Apartment</td>\n",
       "      <td>Entire home/apt</td>\n",
       "      <td>3</td>\n",
       "      <td>1.0</td>\n",
       "      <td>1.0</td>\n",
       "      <td>1.0</td>\n",
       "      <td>125.0</td>\n",
       "      <td>$650.00</td>\n",
       "      <td>125.0</td>\n",
       "      <td>125.0</td>\n",
       "      <td>1</td>\n",
       "      <td>100.0</td>\n",
       "      <td>0.187820</td>\n",
       "    </tr>\n",
       "    <tr>\n",
       "      <th>4</th>\n",
       "      <td>True</td>\n",
       "      <td>True</td>\n",
       "      <td>1013</td>\n",
       "      <td>52.386727</td>\n",
       "      <td>4.892078</td>\n",
       "      <td>t</td>\n",
       "      <td>Houseboat</td>\n",
       "      <td>Private room</td>\n",
       "      <td>2</td>\n",
       "      <td>1.0</td>\n",
       "      <td>1.0</td>\n",
       "      <td>1.0</td>\n",
       "      <td>150.0</td>\n",
       "      <td>$810.00</td>\n",
       "      <td>150.0</td>\n",
       "      <td>150.0</td>\n",
       "      <td>171</td>\n",
       "      <td>99.0</td>\n",
       "      <td>0.016113</td>\n",
       "    </tr>\n",
       "    <tr>\n",
       "      <th>5</th>\n",
       "      <td>True</td>\n",
       "      <td>True</td>\n",
       "      <td>1056</td>\n",
       "      <td>52.375342</td>\n",
       "      <td>4.857289</td>\n",
       "      <td>t</td>\n",
       "      <td>Apartment</td>\n",
       "      <td>Private room</td>\n",
       "      <td>2</td>\n",
       "      <td>1.0</td>\n",
       "      <td>1.0</td>\n",
       "      <td>2.0</td>\n",
       "      <td>65.0</td>\n",
       "      <td>455</td>\n",
       "      <td>65.0</td>\n",
       "      <td>65.0</td>\n",
       "      <td>434</td>\n",
       "      <td>93.0</td>\n",
       "      <td>0.677260</td>\n",
       "    </tr>\n",
       "  </tbody>\n",
       "</table>\n",
       "</div>"
      ],
      "text/plain": [
       "   host_is_superhost  host_identity_verified  zipcode   latitude  longitude  \\\n",
       "1               True                    True  1013 XE  52.390225   4.873924   \n",
       "2               True                    True     1017  52.365087   4.893541   \n",
       "3               True                    True     1016  52.373114   4.883668   \n",
       "4               True                    True     1013  52.386727   4.892078   \n",
       "5               True                    True     1056  52.375342   4.857289   \n",
       "\n",
       "  is_location_exact property_type        room_type  accommodates  bathrooms  \\\n",
       "1                 t     Apartment  Entire home/apt             5        1.0   \n",
       "2                 t     Townhouse  Entire home/apt             2        1.0   \n",
       "3                 f     Apartment  Entire home/apt             3        1.0   \n",
       "4                 t     Houseboat     Private room             2        1.0   \n",
       "5                 t     Apartment     Private room             2        1.0   \n",
       "\n",
       "   bedrooms  beds  price weekly_price  monthly_price  security_deposit  \\\n",
       "1       2.0   2.0  160.0      $543.00          160.0             160.0   \n",
       "2       1.0   1.0   80.0          560           80.0              80.0   \n",
       "3       1.0   1.0  125.0      $650.00          125.0             125.0   \n",
       "4       1.0   1.0  150.0      $810.00          150.0             150.0   \n",
       "5       1.0   2.0   65.0          455           65.0              65.0   \n",
       "\n",
       "   number_of_reviews  review_scores_rating   z_score  \n",
       "1                 42                  96.0  0.097687  \n",
       "2                233                  87.0  0.554900  \n",
       "3                  1                 100.0  0.187820  \n",
       "4                171                  99.0  0.016113  \n",
       "5                434                  93.0  0.677260  "
      ]
     },
     "execution_count": 14,
     "metadata": {},
     "output_type": "execute_result"
    }
   ],
   "source": [
    "dfc.head()"
   ]
  },
  {
   "cell_type": "code",
   "execution_count": 15,
   "metadata": {},
   "outputs": [
    {
     "data": {
      "text/plain": [
       "host_is_superhost         0\n",
       "host_identity_verified    0\n",
       "zipcode                   0\n",
       "latitude                  0\n",
       "longitude                 0\n",
       "is_location_exact         0\n",
       "property_type             0\n",
       "room_type                 0\n",
       "accommodates              0\n",
       "bathrooms                 0\n",
       "bedrooms                  0\n",
       "beds                      0\n",
       "price                     0\n",
       "weekly_price              0\n",
       "monthly_price             0\n",
       "security_deposit          0\n",
       "number_of_reviews         0\n",
       "review_scores_rating      0\n",
       "z_score                   0\n",
       "dtype: int64"
      ]
     },
     "execution_count": 15,
     "metadata": {},
     "output_type": "execute_result"
    }
   ],
   "source": [
    "# No NULL values \n",
    "dfc.isnull().sum(axis = 0)"
   ]
  },
  {
   "cell_type": "code",
   "execution_count": 16,
   "metadata": {},
   "outputs": [
    {
     "data": {
      "text/plain": [
       "<bound method DataFrame.count of        host_response_rate  host_is_superhost  host_identity_verified  zipcode  \\\n",
       "0                   100.0               True                    True      NaN   \n",
       "1                   100.0               True                    True  1013 XE   \n",
       "2                   100.0               True                    True     1017   \n",
       "3                   100.0               True                    True     1016   \n",
       "4                   100.0               True                    True     1013   \n",
       "...                   ...                ...                     ...      ...   \n",
       "20025                 NaN               True                    True  1098 VV   \n",
       "20026                 NaN               True                    True     1094   \n",
       "20027                 NaN               True                    True  1093 GB   \n",
       "20028                 NaN               True                    True     1094   \n",
       "20029                 NaN               True                    True  1078 CL   \n",
       "\n",
       "        latitude  longitude is_location_exact property_type        room_type  \\\n",
       "0      52.365755   4.941419                 f     Apartment     Private room   \n",
       "1      52.390225   4.873924                 t     Apartment  Entire home/apt   \n",
       "2      52.365087   4.893541                 t     Townhouse  Entire home/apt   \n",
       "3      52.373114   4.883668                 f     Apartment  Entire home/apt   \n",
       "4      52.386727   4.892078                 t     Houseboat     Private room   \n",
       "...          ...        ...               ...           ...              ...   \n",
       "20025  52.345999   4.952145                 t         House  Entire home/apt   \n",
       "20026  52.362412   4.932467                 t     Apartment  Entire home/apt   \n",
       "20027  52.362431   4.926912                 f     Apartment  Entire home/apt   \n",
       "20028  52.363780   4.932493                 t     Apartment     Private room   \n",
       "20029  52.346911   4.901932                 t     Apartment  Entire home/apt   \n",
       "\n",
       "       accommodates  bathrooms  bedrooms  beds  price weekly_price  \\\n",
       "0                 2        1.5       1.0   2.0   59.0          NaN   \n",
       "1                 5        1.0       2.0   2.0  160.0      $543.00   \n",
       "2                 2        1.0       1.0   1.0   80.0          NaN   \n",
       "3                 3        1.0       1.0   1.0  125.0      $650.00   \n",
       "4                 2        1.0       1.0   1.0  150.0      $810.00   \n",
       "...             ...        ...       ...   ...    ...          ...   \n",
       "20025             4        2.0       3.0   4.0  340.0          NaN   \n",
       "20026             3        1.0       2.0   3.0  150.0          NaN   \n",
       "20027             2        1.0       1.0   1.0   80.0          NaN   \n",
       "20028             2        1.0       1.0   1.0   55.0          NaN   \n",
       "20029             4        1.0       2.0   2.0  220.0          NaN   \n",
       "\n",
       "       monthly_price  security_deposit  number_of_reviews  \\\n",
       "0               59.0              59.0                248   \n",
       "1              160.0             160.0                 42   \n",
       "2               80.0              80.0                233   \n",
       "3              125.0             125.0                  1   \n",
       "4              150.0             150.0                171   \n",
       "...              ...               ...                ...   \n",
       "20025          340.0             340.0                  0   \n",
       "20026          150.0             150.0                  0   \n",
       "20027           80.0              80.0                  0   \n",
       "20028           55.0              55.0                  0   \n",
       "20029          220.0             220.0                  0   \n",
       "\n",
       "       review_scores_rating  \n",
       "0                      97.0  \n",
       "1                      96.0  \n",
       "2                      87.0  \n",
       "3                     100.0  \n",
       "4                      99.0  \n",
       "...                     ...  \n",
       "20025                   NaN  \n",
       "20026                   NaN  \n",
       "20027                   NaN  \n",
       "20028                   NaN  \n",
       "20029                   NaN  \n",
       "\n",
       "[20030 rows x 19 columns]>"
      ]
     },
     "execution_count": 16,
     "metadata": {},
     "output_type": "execute_result"
    }
   ],
   "source": [
    "df.count"
   ]
  },
  {
   "cell_type": "markdown",
   "metadata": {},
   "source": [
    "## Visualization"
   ]
  },
  {
   "cell_type": "code",
   "execution_count": 17,
   "metadata": {},
   "outputs": [
    {
     "data": {
      "image/png": "[encoded data removed]",
      "text/plain": [
       "<Figure size 432x288 with 1 Axes>"
      ]
     },
     "metadata": {
      "needs_background": "light"
     },
     "output_type": "display_data"
    },
    {
     "data": {
      "image/png": "[encoded data removed]",
      "text/plain": [
       "<Figure size 432x288 with 1 Axes>"
      ]
     },
     "metadata": {
      "needs_background": "light"
     },
     "output_type": "display_data"
    }
   ],
   "source": [
    "plt.boxplot(df['price'])\n",
    "plt.title(\"Price\")\n",
    "plt.show()\n",
    "\n",
    "plt.boxplot(dfc['price'])\n",
    "plt.title(\"Price Cleaned\")\n",
    "plt.show()"
   ]
  },
  {
   "cell_type": "code",
   "execution_count": 18,
   "metadata": {},
   "outputs": [],
   "source": [
    "dfc.to_csv('listings_details_cleaned.csv',index=False)"
   ]
  }
 ],
 "metadata": {
  "kernelspec": {
   "display_name": "Python 3",
   "language": "python",
   "name": "python3"
  },
  "language_info": {
   "codemirror_mode": {
    "name": "ipython",
    "version": 3
   },
   "file_extension": ".py",
   "mimetype": "text/x-python",
   "name": "python",
   "nbconvert_exporter": "python",
   "pygments_lexer": "ipython3",
   "version": "3.7.4"
  }
 },
 "nbformat": 4,
 "nbformat_minor": 4
}
