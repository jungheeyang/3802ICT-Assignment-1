{
 "cells": [
  {
   "cell_type": "markdown",
   "metadata": {},
   "source": [
    "# 3802ICT Assignment 1"
   ]
  },
  {
   "cell_type": "markdown",
   "metadata": {},
   "source": [
    "<p>Junghee Yang (Kat) <br>\n",
    "Regnier Avice<br>\n",
    "Yunpeng Huang (Steven)</p>"
   ]
  },
  {
   "cell_type": "code",
   "execution_count": 13,
   "metadata": {},
   "outputs": [],
   "source": [
    "import numpy as np\n",
    "import pandas as pd\n",
    "import math"
   ]
  },
  {
   "cell_type": "code",
   "execution_count": 43,
   "metadata": {},
   "outputs": [],
   "source": [
    "from matplotlib import pyplot as plt"
   ]
  },
  {
   "cell_type": "code",
   "execution_count": 101,
   "metadata": {},
   "outputs": [
    {
     "name": "stderr",
     "output_type": "stream",
     "text": [
      "/Users/katyang/opt/miniconda3/lib/python3.7/site-packages/IPython/core/interactiveshell.py:3063: DtypeWarning: Columns (87) have mixed types.Specify dtype option on import or set low_memory=False.\n",
      "  interactivity=interactivity, compiler=compiler, result=result)\n"
     ]
    }
   ],
   "source": [
    "df = pd.read_csv(\"/Users/katyang/Desktop/Uni/Year2-Trimester2/3804ICT/Assignment/listings_details.csv\")"
   ]
  },
  {
   "cell_type": "code",
   "execution_count": 102,
   "metadata": {},
   "outputs": [
    {
     "data": {
      "text/html": [
       "<div>\n",
       "<style scoped>\n",
       "    .dataframe tbody tr th:only-of-type {\n",
       "        vertical-align: middle;\n",
       "    }\n",
       "\n",
       "    .dataframe tbody tr th {\n",
       "        vertical-align: top;\n",
       "    }\n",
       "\n",
       "    .dataframe thead th {\n",
       "        text-align: right;\n",
       "    }\n",
       "</style>\n",
       "<table border=\"1\" class=\"dataframe\">\n",
       "  <thead>\n",
       "    <tr style=\"text-align: right;\">\n",
       "      <th></th>\n",
       "      <th>id</th>\n",
       "      <th>listing_url</th>\n",
       "      <th>scrape_id</th>\n",
       "      <th>last_scraped</th>\n",
       "      <th>name</th>\n",
       "      <th>summary</th>\n",
       "      <th>space</th>\n",
       "      <th>description</th>\n",
       "      <th>experiences_offered</th>\n",
       "      <th>neighborhood_overview</th>\n",
       "      <th>...</th>\n",
       "      <th>requires_license</th>\n",
       "      <th>license</th>\n",
       "      <th>jurisdiction_names</th>\n",
       "      <th>instant_bookable</th>\n",
       "      <th>is_business_travel_ready</th>\n",
       "      <th>cancellation_policy</th>\n",
       "      <th>require_guest_profile_picture</th>\n",
       "      <th>require_guest_phone_verification</th>\n",
       "      <th>calculated_host_listings_count</th>\n",
       "      <th>reviews_per_month</th>\n",
       "    </tr>\n",
       "  </thead>\n",
       "  <tbody>\n",
       "    <tr>\n",
       "      <th>0</th>\n",
       "      <td>2818</td>\n",
       "      <td>https://www.airbnb.com/rooms/2818</td>\n",
       "      <td>20181206172549</td>\n",
       "      <td>2018-12-06</td>\n",
       "      <td>Quiet Garden View Room &amp; Super Fast WiFi</td>\n",
       "      <td>Quiet Garden View Room &amp; Super Fast WiFi</td>\n",
       "      <td>I'm renting a bedroom (room overlooking the ga...</td>\n",
       "      <td>Quiet Garden View Room &amp; Super Fast WiFi I'm r...</td>\n",
       "      <td>none</td>\n",
       "      <td>Indische Buurt (\"Indies Neighborhood\") is a ne...</td>\n",
       "      <td>...</td>\n",
       "      <td>f</td>\n",
       "      <td>NaN</td>\n",
       "      <td>{Amsterdam}</td>\n",
       "      <td>t</td>\n",
       "      <td>f</td>\n",
       "      <td>strict_14_with_grace_period</td>\n",
       "      <td>f</td>\n",
       "      <td>f</td>\n",
       "      <td>1</td>\n",
       "      <td>2.10</td>\n",
       "    </tr>\n",
       "    <tr>\n",
       "      <th>1</th>\n",
       "      <td>3209</td>\n",
       "      <td>https://www.airbnb.com/rooms/3209</td>\n",
       "      <td>20181206172549</td>\n",
       "      <td>2018-12-06</td>\n",
       "      <td>Quiet apt near center, great view</td>\n",
       "      <td>You will love our spacious (90 m2) bright apar...</td>\n",
       "      <td>Our apartment has lots of light, a balcony and...</td>\n",
       "      <td>You will love our spacious (90 m2) bright apar...</td>\n",
       "      <td>none</td>\n",
       "      <td>Welcome to the Spaarndammerbuurt! From the beg...</td>\n",
       "      <td>...</td>\n",
       "      <td>f</td>\n",
       "      <td>NaN</td>\n",
       "      <td>{Amsterdam}</td>\n",
       "      <td>f</td>\n",
       "      <td>f</td>\n",
       "      <td>moderate</td>\n",
       "      <td>f</td>\n",
       "      <td>f</td>\n",
       "      <td>1</td>\n",
       "      <td>1.03</td>\n",
       "    </tr>\n",
       "    <tr>\n",
       "      <th>2</th>\n",
       "      <td>20168</td>\n",
       "      <td>https://www.airbnb.com/rooms/20168</td>\n",
       "      <td>20181206172549</td>\n",
       "      <td>2018-12-06</td>\n",
       "      <td>100%Centre-Studio 1 Private Floor/Bathroom</td>\n",
       "      <td>Cozy studio on your own private floor, 100% in...</td>\n",
       "      <td>For those who like all facets of city life. In...</td>\n",
       "      <td>Cozy studio on your own private floor, 100% in...</td>\n",
       "      <td>none</td>\n",
       "      <td>Located just in between famous central canals....</td>\n",
       "      <td>...</td>\n",
       "      <td>f</td>\n",
       "      <td>NaN</td>\n",
       "      <td>{Amsterdam}</td>\n",
       "      <td>f</td>\n",
       "      <td>f</td>\n",
       "      <td>strict_14_with_grace_period</td>\n",
       "      <td>f</td>\n",
       "      <td>f</td>\n",
       "      <td>2</td>\n",
       "      <td>2.18</td>\n",
       "    </tr>\n",
       "    <tr>\n",
       "      <th>3</th>\n",
       "      <td>25428</td>\n",
       "      <td>https://www.airbnb.com/rooms/25428</td>\n",
       "      <td>20181206172549</td>\n",
       "      <td>2018-12-06</td>\n",
       "      <td>Lovely apt in City Centre (Jordaan)</td>\n",
       "      <td>NaN</td>\n",
       "      <td>This nicely furnished, newly renovated apt  is...</td>\n",
       "      <td>This nicely furnished, newly renovated apt  is...</td>\n",
       "      <td>none</td>\n",
       "      <td>NaN</td>\n",
       "      <td>...</td>\n",
       "      <td>f</td>\n",
       "      <td>NaN</td>\n",
       "      <td>{Amsterdam}</td>\n",
       "      <td>f</td>\n",
       "      <td>f</td>\n",
       "      <td>strict_14_with_grace_period</td>\n",
       "      <td>f</td>\n",
       "      <td>f</td>\n",
       "      <td>2</td>\n",
       "      <td>0.09</td>\n",
       "    </tr>\n",
       "    <tr>\n",
       "      <th>4</th>\n",
       "      <td>27886</td>\n",
       "      <td>https://www.airbnb.com/rooms/27886</td>\n",
       "      <td>20181206172549</td>\n",
       "      <td>2018-12-06</td>\n",
       "      <td>Romantic, stylish B&amp;B houseboat in canal district</td>\n",
       "      <td>Stylish and romantic houseboat on fantastic hi...</td>\n",
       "      <td>For a romantic couple: A beautifully restored ...</td>\n",
       "      <td>Stylish and romantic houseboat on fantastic hi...</td>\n",
       "      <td>none</td>\n",
       "      <td>Central, quiet, safe, clean and beautiful.</td>\n",
       "      <td>...</td>\n",
       "      <td>f</td>\n",
       "      <td>NaN</td>\n",
       "      <td>{Amsterdam}</td>\n",
       "      <td>t</td>\n",
       "      <td>f</td>\n",
       "      <td>strict_14_with_grace_period</td>\n",
       "      <td>f</td>\n",
       "      <td>f</td>\n",
       "      <td>1</td>\n",
       "      <td>2.03</td>\n",
       "    </tr>\n",
       "  </tbody>\n",
       "</table>\n",
       "<p>5 rows × 96 columns</p>\n",
       "</div>"
      ],
      "text/plain": [
       "      id                         listing_url       scrape_id last_scraped  \\\n",
       "0   2818   https://www.airbnb.com/rooms/2818  20181206172549   2018-12-06   \n",
       "1   3209   https://www.airbnb.com/rooms/3209  20181206172549   2018-12-06   \n",
       "2  20168  https://www.airbnb.com/rooms/20168  20181206172549   2018-12-06   \n",
       "3  25428  https://www.airbnb.com/rooms/25428  20181206172549   2018-12-06   \n",
       "4  27886  https://www.airbnb.com/rooms/27886  20181206172549   2018-12-06   \n",
       "\n",
       "                                                name  \\\n",
       "0           Quiet Garden View Room & Super Fast WiFi   \n",
       "1                  Quiet apt near center, great view   \n",
       "2         100%Centre-Studio 1 Private Floor/Bathroom   \n",
       "3                Lovely apt in City Centre (Jordaan)   \n",
       "4  Romantic, stylish B&B houseboat in canal district   \n",
       "\n",
       "                                             summary  \\\n",
       "0           Quiet Garden View Room & Super Fast WiFi   \n",
       "1  You will love our spacious (90 m2) bright apar...   \n",
       "2  Cozy studio on your own private floor, 100% in...   \n",
       "3                                                NaN   \n",
       "4  Stylish and romantic houseboat on fantastic hi...   \n",
       "\n",
       "                                               space  \\\n",
       "0  I'm renting a bedroom (room overlooking the ga...   \n",
       "1  Our apartment has lots of light, a balcony and...   \n",
       "2  For those who like all facets of city life. In...   \n",
       "3  This nicely furnished, newly renovated apt  is...   \n",
       "4  For a romantic couple: A beautifully restored ...   \n",
       "\n",
       "                                         description experiences_offered  \\\n",
       "0  Quiet Garden View Room & Super Fast WiFi I'm r...                none   \n",
       "1  You will love our spacious (90 m2) bright apar...                none   \n",
       "2  Cozy studio on your own private floor, 100% in...                none   \n",
       "3  This nicely furnished, newly renovated apt  is...                none   \n",
       "4  Stylish and romantic houseboat on fantastic hi...                none   \n",
       "\n",
       "                               neighborhood_overview  ... requires_license  \\\n",
       "0  Indische Buurt (\"Indies Neighborhood\") is a ne...  ...                f   \n",
       "1  Welcome to the Spaarndammerbuurt! From the beg...  ...                f   \n",
       "2  Located just in between famous central canals....  ...                f   \n",
       "3                                                NaN  ...                f   \n",
       "4         Central, quiet, safe, clean and beautiful.  ...                f   \n",
       "\n",
       "  license jurisdiction_names instant_bookable is_business_travel_ready  \\\n",
       "0     NaN        {Amsterdam}                t                        f   \n",
       "1     NaN        {Amsterdam}                f                        f   \n",
       "2     NaN        {Amsterdam}                f                        f   \n",
       "3     NaN        {Amsterdam}                f                        f   \n",
       "4     NaN        {Amsterdam}                t                        f   \n",
       "\n",
       "           cancellation_policy  require_guest_profile_picture  \\\n",
       "0  strict_14_with_grace_period                              f   \n",
       "1                     moderate                              f   \n",
       "2  strict_14_with_grace_period                              f   \n",
       "3  strict_14_with_grace_period                              f   \n",
       "4  strict_14_with_grace_period                              f   \n",
       "\n",
       "  require_guest_phone_verification  calculated_host_listings_count  \\\n",
       "0                                f                               1   \n",
       "1                                f                               1   \n",
       "2                                f                               2   \n",
       "3                                f                               2   \n",
       "4                                f                               1   \n",
       "\n",
       "   reviews_per_month  \n",
       "0               2.10  \n",
       "1               1.03  \n",
       "2               2.18  \n",
       "3               0.09  \n",
       "4               2.03  \n",
       "\n",
       "[5 rows x 96 columns]"
      ]
     },
     "execution_count": 102,
     "metadata": {},
     "output_type": "execute_result"
    }
   ],
   "source": [
    "df.head()"
   ]
  },
  {
   "cell_type": "code",
   "execution_count": 103,
   "metadata": {},
   "outputs": [],
   "source": [
    "# Drop impractical columns \n",
    "df = df.drop(['id', 'zipcode', 'listing_url', 'scrape_id', 'last_scraped', 'name', 'summary', 'space', 'description', 'experiences_offered', 'neighborhood_overview', 'notes', 'transit', 'access', 'interaction', 'house_rules', 'thumbnail_url', 'medium_url', 'picture_url', 'xl_picture_url', 'host_id', 'host_url', 'host_name', 'host_since', 'host_location', 'host_about', 'host_response_time', 'host_acceptance_rate', 'host_thumbnail_url', 'host_picture_url', 'host_neighbourhood', 'host_listings_count', 'host_total_listings_count', 'host_verifications', 'host_has_profile_pic', 'street', 'neighbourhood', 'neighbourhood_cleansed', 'neighbourhood_group_cleansed', 'city', 'state', 'market', 'smart_location', 'country_code', 'country', 'latitude', 'longitude', 'is_location_exact', 'bed_type', 'amenities', 'square_feet', 'cleaning_fee', 'guests_included', 'extra_people', 'minimum_nights', 'maximum_nights', 'calendar_updated', 'has_availability', 'availability_30', 'availability_60', 'availability_90', 'availability_365', 'calendar_last_scraped', 'first_review', 'last_review', 'review_scores_accuracy', 'review_scores_cleanliness', 'review_scores_checkin', 'review_scores_communication', 'review_scores_location', 'review_scores_value', 'requires_license', 'license', 'jurisdiction_names', 'instant_bookable', 'is_business_travel_ready', 'cancellation_policy', 'require_guest_profile_picture', 'require_guest_phone_verification', 'calculated_host_listings_count', 'reviews_per_month'], axis=1)"
   ]
  },
  {
   "cell_type": "code",
   "execution_count": 104,
   "metadata": {},
   "outputs": [
    {
     "data": {
      "text/html": [
       "<div>\n",
       "<style scoped>\n",
       "    .dataframe tbody tr th:only-of-type {\n",
       "        vertical-align: middle;\n",
       "    }\n",
       "\n",
       "    .dataframe tbody tr th {\n",
       "        vertical-align: top;\n",
       "    }\n",
       "\n",
       "    .dataframe thead th {\n",
       "        text-align: right;\n",
       "    }\n",
       "</style>\n",
       "<table border=\"1\" class=\"dataframe\">\n",
       "  <thead>\n",
       "    <tr style=\"text-align: right;\">\n",
       "      <th></th>\n",
       "      <th>host_response_rate</th>\n",
       "      <th>host_is_superhost</th>\n",
       "      <th>host_identity_verified</th>\n",
       "      <th>property_type</th>\n",
       "      <th>room_type</th>\n",
       "      <th>accommodates</th>\n",
       "      <th>bathrooms</th>\n",
       "      <th>bedrooms</th>\n",
       "      <th>beds</th>\n",
       "      <th>price</th>\n",
       "      <th>weekly_price</th>\n",
       "      <th>monthly_price</th>\n",
       "      <th>security_deposit</th>\n",
       "      <th>number_of_reviews</th>\n",
       "      <th>review_scores_rating</th>\n",
       "    </tr>\n",
       "  </thead>\n",
       "  <tbody>\n",
       "    <tr>\n",
       "      <th>0</th>\n",
       "      <td>100%</td>\n",
       "      <td>t</td>\n",
       "      <td>f</td>\n",
       "      <td>Apartment</td>\n",
       "      <td>Private room</td>\n",
       "      <td>2</td>\n",
       "      <td>1.5</td>\n",
       "      <td>1.0</td>\n",
       "      <td>2.0</td>\n",
       "      <td>$59.00</td>\n",
       "      <td>NaN</td>\n",
       "      <td>$1,500.00</td>\n",
       "      <td>$100.00</td>\n",
       "      <td>248</td>\n",
       "      <td>97.0</td>\n",
       "    </tr>\n",
       "    <tr>\n",
       "      <th>1</th>\n",
       "      <td>100%</td>\n",
       "      <td>f</td>\n",
       "      <td>t</td>\n",
       "      <td>Apartment</td>\n",
       "      <td>Entire home/apt</td>\n",
       "      <td>5</td>\n",
       "      <td>1.0</td>\n",
       "      <td>2.0</td>\n",
       "      <td>2.0</td>\n",
       "      <td>$160.00</td>\n",
       "      <td>$543.00</td>\n",
       "      <td>$2,000.00</td>\n",
       "      <td>$300.00</td>\n",
       "      <td>42</td>\n",
       "      <td>96.0</td>\n",
       "    </tr>\n",
       "    <tr>\n",
       "      <th>2</th>\n",
       "      <td>100%</td>\n",
       "      <td>f</td>\n",
       "      <td>f</td>\n",
       "      <td>Townhouse</td>\n",
       "      <td>Entire home/apt</td>\n",
       "      <td>2</td>\n",
       "      <td>1.0</td>\n",
       "      <td>1.0</td>\n",
       "      <td>1.0</td>\n",
       "      <td>$80.00</td>\n",
       "      <td>NaN</td>\n",
       "      <td>NaN</td>\n",
       "      <td>NaN</td>\n",
       "      <td>233</td>\n",
       "      <td>87.0</td>\n",
       "    </tr>\n",
       "    <tr>\n",
       "      <th>3</th>\n",
       "      <td>100%</td>\n",
       "      <td>f</td>\n",
       "      <td>f</td>\n",
       "      <td>Apartment</td>\n",
       "      <td>Entire home/apt</td>\n",
       "      <td>3</td>\n",
       "      <td>1.0</td>\n",
       "      <td>1.0</td>\n",
       "      <td>1.0</td>\n",
       "      <td>$125.00</td>\n",
       "      <td>$650.00</td>\n",
       "      <td>$2,000.00</td>\n",
       "      <td>$300.00</td>\n",
       "      <td>1</td>\n",
       "      <td>100.0</td>\n",
       "    </tr>\n",
       "    <tr>\n",
       "      <th>4</th>\n",
       "      <td>100%</td>\n",
       "      <td>t</td>\n",
       "      <td>t</td>\n",
       "      <td>Houseboat</td>\n",
       "      <td>Private room</td>\n",
       "      <td>2</td>\n",
       "      <td>1.0</td>\n",
       "      <td>1.0</td>\n",
       "      <td>1.0</td>\n",
       "      <td>$150.00</td>\n",
       "      <td>$810.00</td>\n",
       "      <td>$2,500.00</td>\n",
       "      <td>$0.00</td>\n",
       "      <td>171</td>\n",
       "      <td>99.0</td>\n",
       "    </tr>\n",
       "  </tbody>\n",
       "</table>\n",
       "</div>"
      ],
      "text/plain": [
       "  host_response_rate host_is_superhost host_identity_verified property_type  \\\n",
       "0               100%                 t                      f     Apartment   \n",
       "1               100%                 f                      t     Apartment   \n",
       "2               100%                 f                      f     Townhouse   \n",
       "3               100%                 f                      f     Apartment   \n",
       "4               100%                 t                      t     Houseboat   \n",
       "\n",
       "         room_type  accommodates  bathrooms  bedrooms  beds    price  \\\n",
       "0     Private room             2        1.5       1.0   2.0   $59.00   \n",
       "1  Entire home/apt             5        1.0       2.0   2.0  $160.00   \n",
       "2  Entire home/apt             2        1.0       1.0   1.0   $80.00   \n",
       "3  Entire home/apt             3        1.0       1.0   1.0  $125.00   \n",
       "4     Private room             2        1.0       1.0   1.0  $150.00   \n",
       "\n",
       "  weekly_price monthly_price security_deposit  number_of_reviews  \\\n",
       "0          NaN     $1,500.00          $100.00                248   \n",
       "1      $543.00     $2,000.00          $300.00                 42   \n",
       "2          NaN           NaN              NaN                233   \n",
       "3      $650.00     $2,000.00          $300.00                  1   \n",
       "4      $810.00     $2,500.00            $0.00                171   \n",
       "\n",
       "   review_scores_rating  \n",
       "0                  97.0  \n",
       "1                  96.0  \n",
       "2                  87.0  \n",
       "3                 100.0  \n",
       "4                  99.0  "
      ]
     },
     "execution_count": 104,
     "metadata": {},
     "output_type": "execute_result"
    }
   ],
   "source": [
    "df.head()"
   ]
  },
  {
   "cell_type": "markdown",
   "metadata": {},
   "source": [
    "### Data cleaning"
   ]
  },
  {
   "cell_type": "code",
   "execution_count": 106,
   "metadata": {},
   "outputs": [
    {
     "data": {
      "text/plain": [
       "host_response_rate         object\n",
       "host_is_superhost          object\n",
       "host_identity_verified     object\n",
       "property_type              object\n",
       "room_type                  object\n",
       "accommodates                int64\n",
       "bathrooms                 float64\n",
       "bedrooms                  float64\n",
       "beds                      float64\n",
       "price                      object\n",
       "weekly_price               object\n",
       "monthly_price              object\n",
       "security_deposit           object\n",
       "number_of_reviews           int64\n",
       "review_scores_rating      float64\n",
       "dtype: object"
      ]
     },
     "execution_count": 106,
     "metadata": {},
     "output_type": "execute_result"
    }
   ],
   "source": [
    "df.dtypes"
   ]
  },
  {
   "cell_type": "code",
   "execution_count": 97,
   "metadata": {},
   "outputs": [],
   "source": [
    "# host_response_rate - remove '%' and change object to int \n",
    "try: \n",
    "    df['host_response_rate'] = df['host_response_rate'].str.replace('%', '')\n",
    "    df['host_response_rate'] = df['host_response_rate'].astype(int)\n",
    "except:\n",
    "    pass"
   ]
  },
  {
   "cell_type": "code",
   "execution_count": 98,
   "metadata": {},
   "outputs": [],
   "source": [
    "# host_is_superhost - change object to BOOL\n",
    "try: \n",
    "    df['host_is_superhost'] = df['host_is_superhost'].str.replace('f', 'FALSE')\n",
    "    df['host_is_superhost'] = df['host_is_superhost'].str.replace('t', 'TRUE')\n",
    "    df['host_is_superhost'] = df['host_is_superhost'].astype(bool)\n",
    "except:\n",
    "    pass"
   ]
  },
  {
   "cell_type": "code",
   "execution_count": 99,
   "metadata": {},
   "outputs": [],
   "source": [
    "# host_identity_verified - change object to BOOL\n",
    "try: \n",
    "    df['host_identity_verified'] = df['host_identity_verified'].str.replace('f', 'FALSE')\n",
    "    df['host_identity_verified'] = df['host_identity_verified'].str.replace('t', 'TRUE')\n",
    "    df['host_identity_verified'] = df['host_identity_verified'].astype(bool)\n",
    "except:\n",
    "    pass"
   ]
  },
  {
   "cell_type": "code",
   "execution_count": 105,
   "metadata": {},
   "outputs": [],
   "source": [
    "# property_type - change object to string\n",
    "try: \n",
    "    df['property_type'] = df['property_type'].astype(str)\n",
    "except:\n",
    "    pass"
   ]
  },
  {
   "cell_type": "code",
   "execution_count": null,
   "metadata": {},
   "outputs": [],
   "source": [
    "# property_type - change object to string\n",
    "try: \n",
    "    df['room_type'] = df['room_type'].astype(str)\n",
    "except:\n",
    "    pass"
   ]
  },
  {
   "cell_type": "code",
   "execution_count": 73,
   "metadata": {},
   "outputs": [],
   "source": [
    "# Price - remove '$' and ',' and change string to float\n",
    "try: \n",
    "    df['price'] = df['price'].str.replace(',', '')\n",
    "    df['price'] = df['price'].str.replace('$', '')\n",
    "    df['price'] = df['price'].astype(float)\n",
    "except:\n",
    "    pass"
   ]
  },
  {
   "cell_type": "markdown",
   "metadata": {},
   "source": [
    "### Outliers in price"
   ]
  },
  {
   "cell_type": "code",
   "execution_count": 74,
   "metadata": {},
   "outputs": [
    {
     "data": {
      "image/png": "[encoded data removed]",
      "text/plain": [
       "<Figure size 432x288 with 1 Axes>"
      ]
     },
     "metadata": {
      "needs_background": "light"
     },
     "output_type": "display_data"
    }
   ],
   "source": [
    "plt.boxplot(df['price'])\n",
    "plt.show()"
   ]
  },
  {
   "cell_type": "markdown",
   "metadata": {},
   "source": [
    "### Remove outliers in price"
   ]
  },
  {
   "cell_type": "code",
   "execution_count": 80,
   "metadata": {},
   "outputs": [],
   "source": [
    "from scipy import stats\n",
    "\n",
    "df['z_score'] = np.abs(stats.zscore(df['price']))\n",
    "df = df[df.z_score < 3]"
   ]
  },
  {
   "cell_type": "code",
   "execution_count": 81,
   "metadata": {},
   "outputs": [
    {
     "data": {
      "image/png": "[encoded data removed]",
      "text/plain": [
       "<Figure size 432x288 with 1 Axes>"
      ]
     },
     "metadata": {
      "needs_background": "light"
     },
     "output_type": "display_data"
    }
   ],
   "source": [
    "plt.boxplot(df['price'])\n",
    "plt.show()"
   ]
  },
  {
   "cell_type": "code",
   "execution_count": 83,
   "metadata": {},
   "outputs": [],
   "source": [
    "df = df['host_response_rate'],['host_is_superhost'],['host_identity_verified'],['zipcode'],['property_type'],['room_type'],['accommodates'],['bathrooms'],['bedrooms'],['beds'],['price'],['weekly_price'],['monthly_price'],['security_deposit'],['number_of_reviews'],['review_scores_rating']"
   ]
  },
  {
   "cell_type": "code",
   "execution_count": 85,
   "metadata": {},
   "outputs": [
    {
     "ename": "AttributeError",
     "evalue": "'tuple' object has no attribute 'head'",
     "output_type": "error",
     "traceback": [
      "\u001b[0;31m---------------------------------------------------------------------------\u001b[0m",
      "\u001b[0;31mAttributeError\u001b[0m                            Traceback (most recent call last)",
      "\u001b[0;32m<ipython-input-85-89148ddff993>\u001b[0m in \u001b[0;36m<module>\u001b[0;34m\u001b[0m\n\u001b[0;32m----> 1\u001b[0;31m \u001b[0mdf\u001b[0m\u001b[0;34m.\u001b[0m\u001b[0mhead\u001b[0m\u001b[0;34m\u001b[0m\u001b[0;34m\u001b[0m\u001b[0m\n\u001b[0m",
      "\u001b[0;31mAttributeError\u001b[0m: 'tuple' object has no attribute 'head'"
     ]
    }
   ],
   "source": [
    "df.head"
   ]
  },
  {
   "cell_type": "code",
   "execution_count": null,
   "metadata": {},
   "outputs": [],
   "source": []
  }
 ],
 "metadata": {
  "kernelspec": {
   "display_name": "Python 3",
   "language": "python",
   "name": "python3"
  },
  "language_info": {
   "codemirror_mode": {
    "name": "ipython",
    "version": 3
   },
   "file_extension": ".py",
   "mimetype": "text/x-python",
   "name": "python",
   "nbconvert_exporter": "python",
   "pygments_lexer": "ipython3",
   "version": "3.7.4"
  }
 },
 "nbformat": 4,
 "nbformat_minor": 4
}
